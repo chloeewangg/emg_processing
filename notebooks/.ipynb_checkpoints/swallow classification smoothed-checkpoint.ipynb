{
 "cells": [
  {
   "cell_type": "markdown",
   "id": "0d6dde1b-3ac1-4b08-9f23-9839b7797b52",
   "metadata": {},
   "source": [
    "See 'swallow classification bandpass.ipynb' for preprocessing."
   ]
  },
  {
   "cell_type": "code",
   "execution_count": null,
   "id": "6e00c029-aac3-4817-bdbc-a5f4d6fe378e",
   "metadata": {},
   "outputs": [],
   "source": [
    "import os\n",
    "import pandas as pd\n",
    "import random\n",
    "import shutil\n",
    "\n",
    "data_path = r'C:\\Users\\chloe\\OneDrive\\Desktop\\swallow EMG\\data\\07_18_25\\extracted signals'\n",
    "class_folders = os.listdir(data_path)"
   ]
  },
  {
   "cell_type": "markdown",
   "id": "0f2ba453-ebc9-446b-b048-74927f62078d",
   "metadata": {},
   "source": [
    "# Feature Extraction\n",
    "I got some of these features and functions from this link: https://www.kaggle.com/code/calulamabel/emg-hand-gesture-classification/notebook"
   ]
  },
  {
   "cell_type": "code",
   "execution_count": null,
   "id": "04eff19f-c41d-483b-8b2b-978970727df3",
   "metadata": {},
   "outputs": [],
   "source": [
    "import numpy as np\n",
    "\n",
    "# mean absolute value\n",
    "def mav(data):\n",
    "    return np.mean(np.abs(data), axis=0)\n",
    "\n",
    "# root mean square\n",
    "def rms(data):\n",
    "    return np.sqrt(np.mean(data**2,axis=0))  \n",
    "    \n",
    "# wavelength\n",
    "def wavelength(data):\n",
    "    return np.sum(np.abs(np.diff(data)), axis=0)\n",
    "    \n",
    "# zero crossing rate\n",
    "def zcr(data):\n",
    "    return np.sum(np.diff(np.sign(data), axis=0) != 0, axis=0) / (len(data)-1)\n",
    "\n",
    "# variance\n",
    "def var(data):\n",
    "    return np.var(data, axis=0)\n",
    "\n",
    "# sum of absolute differences between consecutive samples\n",
    "def abs_diffs_signal(data):\n",
    "    return np.sum(np.abs(np.diff(data,axis=0)),axis=0)\n",
    "\n",
    "# mean frequency\n",
    "def mean_freq(data, fs=500):\n",
    "    freqs = np.fft.rfftfreq(len(data), d=1/fs)\n",
    "    spectrum = np.abs(np.fft.rfft(data))**2\n",
    "    return np.sum(freqs * spectrum) / np.sum(spectrum)\n",
    "\n",
    "# median frequency\n",
    "def median_freq(data, fs=500):\n",
    "    data = data - np.mean(data)\n",
    "    freqs = np.fft.rfftfreq(len(data), d=1/fs)\n",
    "    spectrum = np.abs(np.fft.rfft(data))**2\n",
    "    cumulative = np.cumsum(spectrum)\n",
    "    total = cumulative[-1]\n",
    "    med_idx = np.searchsorted(cumulative, total / 2)\n",
    "    return freqs[med_idx]\n",
    "\n",
    "# peak frequency\n",
    "def peak_freq(data, fs=500):\n",
    "    data = data - np.mean(data)\n",
    "    freqs = np.fft.rfftfreq(len(data), d=1/fs)\n",
    "    spectrum = np.abs(np.fft.rfft(data))**2\n",
    "    peak_idx = np.argmax(spectrum)\n",
    "    return freqs[peak_idx]"
   ]
  },
  {
   "cell_type": "code",
   "execution_count": null,
   "id": "d45ad242-8d64-448a-a84f-b26eae09b0bc",
   "metadata": {},
   "outputs": [],
   "source": [
    "df = pd.DataFrame()\n",
    "\n",
    "class_map = {}\n",
    "i = 0\n",
    "\n",
    "sampling_rate = 500 # in Hz\n",
    "window_seconds = 0.15 # in seconds\n",
    "window_size = int(window_seconds * sampling_rate)\n",
    "\n",
    "for class_name in os.listdir(data_path):\n",
    "    if class_name == 'oral prep 0':\n",
    "        continue\n",
    "        \n",
    "    class_path = os.path.join(data_path, class_name)\n",
    "    class_str = class_name.rstrip('.txt')\n",
    "    parts = class_str.split()\n",
    "    volume = parts[-1]\n",
    "    substance = ' '.join(parts[:-1])\n",
    "    \n",
    "    for sample_name in os.listdir(class_path):\n",
    "        sample_df = pd.read_csv(os.path.join(data_path, class_name, sample_name), delimiter = \",\", header = None)\n",
    "\n",
    "        # rectification\n",
    "        sample_df = sample_df.abs()\n",
    "\n",
    "        # rms smoothing\n",
    "        sample_df = sample_df.rolling(window=window_size).apply(rms, raw=True)\n",
    "        sample_df = sample_df.dropna()\n",
    "        \n",
    "        sample_df.columns = [f\"channel {i+1}\" for i in range(sample_df.shape[1])]\n",
    "        if substance not in class_map:\n",
    "            class_map[substance] = i\n",
    "            i += 1\n",
    "        \n",
    "        sample_df['substance'] = substance\n",
    "        sample_df['volume'] = volume\n",
    "        sample_df_grouped = sample_df.groupby(['substance', 'volume'])\n",
    "        \n",
    "        features_df = sample_df_grouped.agg(['max', mav, rms, wavelength, var, abs_diffs_signal, mean_freq, median_freq, peak_freq])\n",
    "        df = pd.concat([df, features_df])\n",
    "\n",
    "df.reset_index(inplace=True)\n",
    "sample_df"
   ]
  },
  {
   "cell_type": "code",
   "execution_count": null,
   "id": "aef4ed7c-6269-4187-b81e-579e1f93a132",
   "metadata": {},
   "outputs": [],
   "source": [
    "df"
   ]
  },
  {
   "cell_type": "code",
   "execution_count": null,
   "id": "b46ee856-021f-45f2-9464-0f9d89e447d3",
   "metadata": {},
   "outputs": [],
   "source": [
    "print(class_map)"
   ]
  },
  {
   "cell_type": "code",
   "execution_count": null,
   "id": "79f66940-0331-4ddb-b003-ee33448d5205",
   "metadata": {},
   "outputs": [],
   "source": [
    "df['substance'] = df['substance'].map(class_map)\n",
    "df"
   ]
  },
  {
   "cell_type": "code",
   "execution_count": null,
   "id": "1ff017f9-0281-4e36-b4c1-fc7200ad729e",
   "metadata": {},
   "outputs": [],
   "source": [
    "df.to_csv(r'C:\\Users\\chloe\\OneDrive\\Desktop\\swallow EMG\\notebooks\\clean_df.csv', index=False)"
   ]
  },
  {
   "cell_type": "markdown",
   "id": "3051ea41-3c82-47af-8546-3a6638c77978",
   "metadata": {},
   "source": [
    "# Single Label Classification\n",
    "### Substance"
   ]
  },
  {
   "cell_type": "code",
   "execution_count": null,
   "id": "a9475bae-e8a0-483b-969a-8485ef8914a7",
   "metadata": {},
   "outputs": [],
   "source": [
    "from sklearn.model_selection import train_test_split\n",
    "from sklearn import svm, metrics\n",
    "from sklearn.preprocessing import StandardScaler\n",
    "import matplotlib.pyplot as plt\n",
    "import seaborn as sns\n",
    "\n",
    "x = df.drop(columns=['volume', 'substance'])\n",
    "y = df['substance']\n",
    "\n",
    "x_train, x_test, y_train, y_test = train_test_split(x, y, test_size=0.2, random_state=42)\n",
    "\n",
    "scaler = StandardScaler()\n",
    "x_train_scaled = scaler.fit_transform(x_train)\n",
    "x_test_scaled = scaler.transform(x_test)\n",
    "\n",
    "print(x_train_scaled.shape)  \n",
    "print(y_train.shape)  "
   ]
  },
  {
   "cell_type": "code",
   "execution_count": null,
   "id": "ebb72bce-74be-4604-830c-87ef19598eb1",
   "metadata": {},
   "outputs": [],
   "source": [
    "from sklearn.metrics import accuracy_score, precision_score, recall_score, f1_score, confusion_matrix\n",
    "\n",
    "# joint accuracies\n",
    "models = []\n",
    "model_accuracies = []\n",
    "model_precisions = []\n",
    "model_recalls = []\n",
    "model_f1scores = []\n",
    "\n",
    "def train_and_plot_model(model, model_name):\n",
    "    model.fit(x_train_scaled, y_train)\n",
    "    y_pred = model.predict(x_test_scaled)\n",
    "    \n",
    "    accuracy = accuracy_score(y_test, y_pred)\n",
    "    precision = precision_score(y_test, y_pred, average='weighted')\n",
    "    recall = recall_score(y_test, y_pred, average='weighted')\n",
    "    f1score = f1_score(y_test, y_pred, average='weighted')\n",
    "    model_confusion_matrix = confusion_matrix(y_test, y_pred)\n",
    "\n",
    "    models.append(model_name)\n",
    "    model_accuracies.append(accuracy * 100)\n",
    "    model_precisions.append(precision * 100)\n",
    "    model_recalls.append(recall * 100)\n",
    "    model_f1scores.append(f1score * 100)\n",
    "    \n",
    "    print(f'Accuracy: {accuracy:.4f}')\n",
    "    print(f'Precision: {precision:.4f}')\n",
    "    print(f'Recall: {recall:.4f}')\n",
    "    print(f'F1 score: {f1score:.4f}')\n",
    "    print('----------------------------')\n",
    "    \n",
    "    plt.figure(figsize=(4, 3))\n",
    "    sns.heatmap(model_confusion_matrix, annot=True, fmt='d', cmap='Blues', xticklabels=model.classes_, yticklabels=model.classes_)\n",
    "    plt.title(f'{model_name} Confusion Matrix')\n",
    "    plt.xlabel('Predicted')\n",
    "    plt.ylabel('Actual')\n",
    "    plt.show()"
   ]
  },
  {
   "cell_type": "markdown",
   "id": "7c368837-6c6f-460d-a582-84f60fd426c7",
   "metadata": {},
   "source": [
    "### SVM\n",
    "The lines below are taken from here: https://www.kaggle.com/code/calulamabel/emg-hand-gesture-classification/notebook"
   ]
  },
  {
   "cell_type": "code",
   "execution_count": null,
   "id": "d1d62460-04b2-4356-aec8-e993eb6e5eaa",
   "metadata": {},
   "outputs": [],
   "source": [
    "svm_model = svm.SVC(kernel='linear')\n",
    "train_and_plot_model(svm_model, 'SVM')"
   ]
  },
  {
   "cell_type": "markdown",
   "id": "c50a16fd-9f0b-4a5a-bf9d-6be62608db0c",
   "metadata": {},
   "source": [
    "### KNN"
   ]
  },
  {
   "cell_type": "code",
   "execution_count": null,
   "id": "120acbd6-892e-4326-8fbf-26317ae1fefb",
   "metadata": {},
   "outputs": [],
   "source": [
    "from sklearn.neighbors import KNeighborsClassifier\n",
    "\n",
    "knn_model = KNeighborsClassifier(n_neighbors=3)\n",
    "train_and_plot_model(knn_model, 'KNN')"
   ]
  },
  {
   "cell_type": "markdown",
   "id": "a331b5a9-cc02-4c04-bfc1-61be5a90c422",
   "metadata": {},
   "source": [
    "### Decision Tree"
   ]
  },
  {
   "cell_type": "code",
   "execution_count": null,
   "id": "f4a4db98-c57e-4534-b9a2-7fbfd8a18273",
   "metadata": {},
   "outputs": [],
   "source": [
    "from sklearn.tree import DecisionTreeClassifier\n",
    "\n",
    "dt_model = DecisionTreeClassifier()\n",
    "train_and_plot_model(dt_model, 'Decision Tree')"
   ]
  },
  {
   "cell_type": "markdown",
   "id": "f7fba6e3-0ae3-41a3-bfc6-5d0ba53047b5",
   "metadata": {},
   "source": [
    "### Naive Bayes"
   ]
  },
  {
   "cell_type": "code",
   "execution_count": null,
   "id": "cb917a30-7f3c-4827-bf3a-032941278a5e",
   "metadata": {},
   "outputs": [],
   "source": [
    "from sklearn.naive_bayes import GaussianNB\n",
    "\n",
    "nb_model = GaussianNB()\n",
    "train_and_plot_model(nb_model, 'Naive Bayes')"
   ]
  },
  {
   "cell_type": "markdown",
   "id": "e6a21ee5-0b47-4c63-9aba-79679facee42",
   "metadata": {},
   "source": [
    "### Logistic Regression"
   ]
  },
  {
   "cell_type": "code",
   "execution_count": null,
   "id": "b8050387-b221-469e-8d94-b5229817b9c9",
   "metadata": {},
   "outputs": [],
   "source": [
    "from sklearn.linear_model import LogisticRegression\n",
    "\n",
    "regression_model = LogisticRegression()\n",
    "train_and_plot_model(regression_model, 'Logistic Regression')"
   ]
  },
  {
   "cell_type": "markdown",
   "id": "42b807b7-3efd-46f8-939c-a82971fe6bd8",
   "metadata": {},
   "source": [
    "### Gradient Boosting"
   ]
  },
  {
   "cell_type": "code",
   "execution_count": null,
   "id": "f8483ace-a00e-4b25-9350-10ba469c2204",
   "metadata": {},
   "outputs": [],
   "source": [
    "from sklearn.ensemble import GradientBoostingClassifier\n",
    "\n",
    "gb_model = GradientBoostingClassifier()\n",
    "train_and_plot_model(gb_model, 'Gradient Boosting')"
   ]
  },
  {
   "cell_type": "markdown",
   "id": "50dd134b-3a14-4e19-8b1c-0b0ab6d903aa",
   "metadata": {},
   "source": [
    "### Model Comparison"
   ]
  },
  {
   "cell_type": "code",
   "execution_count": null,
   "id": "bd6d60b7-20c8-40ff-be86-5358d53f77ad",
   "metadata": {},
   "outputs": [],
   "source": [
    "x = np.arange(len(models))  \n",
    "width = 0.2                \n",
    "\n",
    "plt.bar(x - 1.5*width, model_accuracies, width, label='Accuracy', color='dodgerblue')\n",
    "plt.bar(x - 0.5*width, model_precisions, width, label='Precision', color='deepskyblue')\n",
    "plt.bar(x + 0.5*width, model_recalls, width, label='Recall', color='lightskyblue')\n",
    "plt.bar(x + 1.5*width, model_f1scores, width, label='F1 Score', color='lightblue')\n",
    "\n",
    "plt.legend(loc='upper left', bbox_to_anchor=(1.05, 1))\n",
    "plt.xticks(x, labels=models, rotation=-45)\n",
    "plt.xlabel('Model')\n",
    "plt.ylabel('Percent')\n",
    "\n",
    "plt.tight_layout()\n",
    "plt.show()"
   ]
  },
  {
   "cell_type": "markdown",
   "id": "b45c65e6-dd81-4ff6-8841-8994b4b11f57",
   "metadata": {},
   "source": [
    "### Volume"
   ]
  },
  {
   "cell_type": "code",
   "execution_count": null,
   "id": "9c09805d-0dce-4340-a2d2-155fd1bd53e5",
   "metadata": {},
   "outputs": [],
   "source": [
    "# accuracy plot\n",
    "models = []\n",
    "model_accuracies = []\n",
    "model_precisions = []\n",
    "model_recalls = []\n",
    "model_f1scores = []\n",
    "\n",
    "x = df.drop(columns=['volume', 'substance'])\n",
    "y = df['volume']\n",
    "\n",
    "x_train, x_test, y_train, y_test = train_test_split(x, y, test_size=0.2, random_state=42)\n",
    "\n",
    "scaler = StandardScaler()\n",
    "x_train_scaled = scaler.fit_transform(x_train)\n",
    "x_test_scaled = scaler.transform(x_test)\n",
    "\n",
    "print(x_train_scaled.shape)  \n",
    "print(y_train.shape)  "
   ]
  },
  {
   "cell_type": "code",
   "execution_count": null,
   "id": "bba15ffc-ff7b-47b9-8033-884f1f831a53",
   "metadata": {},
   "outputs": [],
   "source": [
    "train_and_plot_model(svm_model, 'SVM')"
   ]
  },
  {
   "cell_type": "code",
   "execution_count": null,
   "id": "252a65fc-7937-4deb-b25a-1491bb4abab8",
   "metadata": {},
   "outputs": [],
   "source": [
    "train_and_plot_model(knn_model, 'KNN')"
   ]
  },
  {
   "cell_type": "code",
   "execution_count": null,
   "id": "8fa753bd-caca-4776-9c5d-9f19688dd08e",
   "metadata": {},
   "outputs": [],
   "source": [
    "train_and_plot_model(dt_model, 'Decision Tree')"
   ]
  },
  {
   "cell_type": "code",
   "execution_count": null,
   "id": "47d4ab62-531a-4b7d-a94e-1c814909da7a",
   "metadata": {},
   "outputs": [],
   "source": [
    "train_and_plot_model(nb_model, 'Naive Bayes')"
   ]
  },
  {
   "cell_type": "code",
   "execution_count": null,
   "id": "4f7e325b-9076-449c-9e60-67e85f708376",
   "metadata": {},
   "outputs": [],
   "source": [
    "train_and_plot_model(regression_model, 'Logistic Regression')"
   ]
  },
  {
   "cell_type": "code",
   "execution_count": null,
   "id": "5d08ab92-6ee2-4270-aca0-b683e1a5a867",
   "metadata": {},
   "outputs": [],
   "source": [
    "train_and_plot_model(gb_model, 'Gradient Boosting')"
   ]
  },
  {
   "cell_type": "code",
   "execution_count": null,
   "id": "a8cc7ac9-3e31-4353-bfa1-b679303cde6d",
   "metadata": {},
   "outputs": [],
   "source": [
    "x = np.arange(len(models))  \n",
    "width = 0.2                \n",
    "\n",
    "plt.bar(x - 1.5*width, model_accuracies, width, label='Accuracy', color='dodgerblue')\n",
    "plt.bar(x - 0.5*width, model_precisions, width, label='Precision', color='deepskyblue')\n",
    "plt.bar(x + 0.5*width, model_recalls, width, label='Recall', color='lightskyblue')\n",
    "plt.bar(x + 1.5*width, model_f1scores, width, label='F1 Score', color='lightblue')\n",
    "\n",
    "plt.legend(loc='upper left', bbox_to_anchor=(1.05, 1))\n",
    "plt.xticks(x, labels=models, rotation=-45)\n",
    "plt.xlabel('Model')\n",
    "plt.ylabel('Percent')\n",
    "\n",
    "plt.tight_layout()\n",
    "plt.show()"
   ]
  },
  {
   "cell_type": "markdown",
   "id": "fe1a8f92-d708-49b2-9624-0c7c426b6e3f",
   "metadata": {},
   "source": [
    "# Multi Label Classification"
   ]
  },
  {
   "cell_type": "code",
   "execution_count": null,
   "id": "7e4bd964-b891-4722-be20-0fd8936b34ff",
   "metadata": {},
   "outputs": [],
   "source": [
    "label_names = ['Substance', 'Volume']\n",
    "\n",
    "# accuracies\n",
    "models = []\n",
    "model_exact_accuracies = [] # predicts both labels right\n",
    "\n",
    "def train_and_plot_multioutput_model(model, model_name, cm=True):\n",
    "    model.fit(x_train_scaled, y_train)\n",
    "    y_pred = model.predict(x_test_scaled)\n",
    "\n",
    "    # Exact match accuracy (all labels correct)\n",
    "    exact_match_accuracy = np.mean(np.all(y_test.values == y_pred, axis=1))\n",
    "\n",
    "    # Per-label accuracy\n",
    "    per_label_accuracy = (y_test == y_pred).mean(axis=0)\n",
    "    average_label_accuracy = per_label_accuracy.mean()\n",
    "\n",
    "    models.append(model_name)\n",
    "    model_exact_accuracies.append(exact_match_accuracy * 100)\n",
    "\n",
    "    print(model_name)\n",
    "    print(f'Exact Match Accuracy: {exact_match_accuracy:.4f}')\n",
    "    print(f'Average Per-Label Accuracy: {average_label_accuracy:.4f}')\n",
    "    print(f'Per-Label Accuracies: {per_label_accuracy.values if hasattr(per_label_accuracy, \"values\") else per_label_accuracy}')\n",
    "    print('----------------------------')\n",
    "\n",
    "    # Confusion matrices for each label\n",
    "    if cm == True:\n",
    "        for i, col in enumerate(y_test.columns):\n",
    "            cm = confusion_matrix(y_test.iloc[:, i], y_pred[:, i])\n",
    "            plt.figure(figsize=(4, 3))\n",
    "            sns.heatmap(cm, annot=True, fmt='d', cmap='Blues')\n",
    "            plt.title(f'{model_name} Confusion Matrix, {label_names[i]}')\n",
    "            plt.xlabel('Predicted')\n",
    "            plt.ylabel('Actual')\n",
    "            plt.show()"
   ]
  },
  {
   "cell_type": "code",
   "execution_count": null,
   "id": "87e0abf7-abdc-45c8-ae8d-26ce018d3dd5",
   "metadata": {},
   "outputs": [],
   "source": [
    "x = df.drop(columns=['volume', 'substance'])\n",
    "y = df[['substance', 'volume']]\n",
    "\n",
    "x_train, x_test, y_train, y_test = train_test_split(x, y, test_size=0.2, random_state=42)\n",
    "\n",
    "y_train = y_train.astype(int)\n",
    "y_test = y_test.astype(int)\n",
    "\n",
    "scaler = StandardScaler()\n",
    "x_train_scaled = scaler.fit_transform(x_train)\n",
    "x_test_scaled = scaler.transform(x_test)\n",
    "\n",
    "print(x_train_scaled.shape)  \n",
    "print(y_train.shape)  "
   ]
  },
  {
   "cell_type": "code",
   "execution_count": null,
   "id": "a87a5cc5-6394-4295-b191-f901fa0a67a6",
   "metadata": {},
   "outputs": [],
   "source": [
    "from sklearn.multioutput import MultiOutputClassifier\n",
    "\n",
    "model = MultiOutputClassifier(svm_model)\n",
    "train_and_plot_multioutput_model(model, 'SVM', cm=False)\n",
    "\n",
    "model = MultiOutputClassifier(knn_model)\n",
    "train_and_plot_multioutput_model(model, 'KNN', cm=False)\n",
    "\n",
    "model = MultiOutputClassifier(dt_model)\n",
    "train_and_plot_multioutput_model(model, 'Decision Tree', cm=False)\n",
    "\n",
    "model = MultiOutputClassifier(nb_model)\n",
    "train_and_plot_multioutput_model(model, 'Naive Bayes', cm=False)\n",
    "\n",
    "model = MultiOutputClassifier(regression_model)\n",
    "train_and_plot_multioutput_model(model, 'Linear Regression', cm=False)\n",
    "\n",
    "model = MultiOutputClassifier(gb_model)\n",
    "train_and_plot_multioutput_model(model, 'Gradient Boosting', cm=False)"
   ]
  },
  {
   "cell_type": "code",
   "execution_count": null,
   "id": "3f2fe2a8-0d4e-4416-a46a-8c63f0e4f1ba",
   "metadata": {},
   "outputs": [],
   "source": [
    "plt.bar(models, model_exact_accuracies, width=0.5)\n",
    "\n",
    "plt.xticks(rotation=-45)\n",
    "plt.xlabel('Model')\n",
    "plt.ylabel('Exact Accuracy (%)')\n",
    "\n",
    "plt.show()"
   ]
  },
  {
   "cell_type": "code",
   "execution_count": null,
   "id": "c82fc947-59a3-492a-9f5a-697327984ed2",
   "metadata": {},
   "outputs": [],
   "source": [
    "import csv\n",
    "\n",
    "with open('multioutput_rectified_accuracies.csv', 'w', newline='') as f:\n",
    "    writer = csv.writer(f)\n",
    "    writer.writerow(model_exact_accuracies)"
   ]
  },
  {
   "cell_type": "code",
   "execution_count": null,
   "id": "d4aed333-9542-474f-a80a-11223294e470",
   "metadata": {},
   "outputs": [],
   "source": [
    "bandpass_accuracies_df = pd.read_csv('multioutput_bandpass_accuracies.csv', header=None)\n",
    "bandpass_accuracies = bandpass_accuracies_df.iloc[0].tolist()\n",
    "\n",
    "x = np.arange(len(models))  # [0, 1, 2]\n",
    "width = 0.35  # width of each bar\n",
    "\n",
    "# Plot bars side by side\n",
    "plt.bar(x - width/2, bandpass_accuracies, width, label='Bandpass', color='blue')\n",
    "plt.bar(x + width/2, model_exact_accuracies, width, label='Rectified', color='green')\n",
    "\n",
    "# Add labels\n",
    "plt.xticks(x, models, rotation=-45)\n",
    "plt.ylabel('Exact Accuracy (%)')\n",
    "plt.legend(loc='upper left', bbox_to_anchor=(1.05, 1))\n",
    "plt.tight_layout()\n",
    "plt.show()"
   ]
  }
 ],
 "metadata": {
  "kernelspec": {
   "display_name": "Python 3 (ipykernel)",
   "language": "python",
   "name": "python3"
  },
  "language_info": {
   "codemirror_mode": {
    "name": "ipython",
    "version": 3
   },
   "file_extension": ".py",
   "mimetype": "text/x-python",
   "name": "python",
   "nbconvert_exporter": "python",
   "pygments_lexer": "ipython3",
   "version": "3.11.9"
  }
 },
 "nbformat": 4,
 "nbformat_minor": 5
}
