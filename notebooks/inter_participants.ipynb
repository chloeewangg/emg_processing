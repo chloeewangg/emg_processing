{
 "cells": [
  {
   "cell_type": "code",
   "execution_count": 1,
   "id": "8de9d062",
   "metadata": {},
   "outputs": [],
   "source": [
    "import pandas as pd\n",
    "import numpy as np\n",
    "import os\n",
    "\n",
    "chloe_df_limited = pd.read_csv(r'C:\\Users\\chloe\\OneDrive\\Desktop\\swallow EMG\\notebooks\\participant features\\chloe_limited.csv')\n",
    "libing_df = pd.read_csv(r'C:\\Users\\chloe\\OneDrive\\Desktop\\swallow EMG\\notebooks\\participant features\\libing.csv')\n",
    "wenjian_df = pd.read_csv(r'C:\\Users\\chloe\\OneDrive\\Desktop\\swallow EMG\\notebooks\\participant features\\wenjian.csv')\n",
    "\n",
    "chloe_df_limited = chloe_df_limited.dropna()\n",
    "libing_df =libing_df.dropna()\n",
    "wenjian_df = wenjian_df.dropna()"
   ]
  },
  {
   "cell_type": "code",
   "execution_count": 2,
   "id": "0bda6762",
   "metadata": {},
   "outputs": [],
   "source": [
    "os.chdir(\"..\") \n",
    "from src import feature_extraction, models, utils\n",
    "from src.models import multioutput_models\n",
    "\n",
    "chloe_x = chloe_df_limited.drop(columns=['volume', 'substance'])\n",
    "chloe_y = chloe_df_limited[['substance', 'volume']]\n",
    "\n",
    "chloe_x_train, chloe_x_test, chloe_y_train, chloe_y_test = models.make_split(chloe_x, chloe_y, 42)\n",
    "\n",
    "libing_x = libing_df.drop(columns=['volume', 'substance'])\n",
    "libing_y = libing_df[['substance', 'volume']]\n",
    "\n",
    "libing_x_train, libing_x_test, libing_y_train, libing_y_test = models.make_split(libing_x, libing_y, 42)\n",
    "\n",
    "wenjian_x = wenjian_df.drop(columns=['volume', 'substance'])\n",
    "wenjian_y = wenjian_df[['substance', 'volume']]\n",
    "\n",
    "wenjian_x_train, wenjian_x_test, wenjian_y_train, wenjian_y_test = models.make_split(wenjian_x, wenjian_y, 42)"
   ]
  },
  {
   "cell_type": "code",
   "execution_count": 3,
   "id": "b2a10fdb",
   "metadata": {},
   "outputs": [],
   "source": [
    "from sklearn.base import clone\n",
    "\n",
    "def train_and_save_models(x_train, x_test, y_train, y_test):\n",
    "    acc = []\n",
    "    per_label_acc = []\n",
    "\n",
    "    models_copy = [[name, clone(model)] for name, model in multioutput_models]\n",
    "\n",
    "    for model in models_copy:\n",
    "        model[1].fit(x_train, y_train)\n",
    "        y_pred = model[1].predict(x_test)\n",
    "\n",
    "        # Exact match accuracy (all labels correct)\n",
    "        exact_match_accuracy = np.mean(np.all(y_test.values == y_pred, axis=1))\n",
    "\n",
    "        # Per-label accuracy\n",
    "        per_label_accuracy = (y_test == y_pred).mean(axis=0)\n",
    "\n",
    "        acc.append(exact_match_accuracy * 100)\n",
    "        per_label_acc.append(per_label_accuracy * 100)\n",
    "\n",
    "    models.print_metrics(acc, per_label_acc)\n",
    "\n",
    "    return acc, per_label_acc, models_copy\n",
    "\n",
    "def holdout_validation(x_test, y_test, models):\n",
    "    acc = []\n",
    "    per_label_acc = []\n",
    "\n",
    "    for model in models:\n",
    "        y_pred = model[1].predict(x_test)\n",
    "\n",
    "        # Exact match accuracy (all labels correct)\n",
    "        exact_match_accuracy = np.mean(np.all(y_test.values == y_pred, axis=1))\n",
    "\n",
    "        # Per-label accuracy\n",
    "        per_label_accuracy = (y_test == y_pred).mean(axis=0)\n",
    "\n",
    "        acc.append(exact_match_accuracy * 100)\n",
    "        per_label_acc.append(per_label_accuracy * 100)\n",
    "\n",
    "    return acc, per_label_acc"
   ]
  },
  {
   "cell_type": "code",
   "execution_count": 4,
   "id": "4d6e0ea5",
   "metadata": {},
   "outputs": [
    {
     "name": "stdout",
     "output_type": "stream",
     "text": [
      "SVM\n",
      "Exact Match Accuracy: 62.5000\n",
      "Per-Label Accuracies: [75.  87.5]\n",
      "----------------------------\n",
      "KNN\n",
      "Exact Match Accuracy: 50.0000\n",
      "Per-Label Accuracies: [62.5 87.5]\n",
      "----------------------------\n",
      "Decision Tree\n",
      "Exact Match Accuracy: 75.0000\n",
      "Per-Label Accuracies: [87.5 87.5]\n",
      "----------------------------\n",
      "Naive Bayes\n",
      "Exact Match Accuracy: 62.5000\n",
      "Per-Label Accuracies: [87.5 75. ]\n",
      "----------------------------\n",
      "Logistic Regression\n",
      "Exact Match Accuracy: 75.0000\n",
      "Per-Label Accuracies: [87.5 87.5]\n",
      "----------------------------\n",
      "Gradient Boost\n",
      "Exact Match Accuracy: 100.0000\n",
      "Per-Label Accuracies: [100. 100.]\n",
      "----------------------------\n"
     ]
    }
   ],
   "source": [
    "chloe_acc, chloe_label_acc, chloe_models = train_and_save_models(chloe_x_train, chloe_x_test, chloe_y_train, chloe_y_test)"
   ]
  },
  {
   "cell_type": "code",
   "execution_count": 5,
   "id": "df67fb37",
   "metadata": {},
   "outputs": [],
   "source": [
    "libing_acc, libing_label_acc = holdout_validation(libing_x_test, libing_y_test, chloe_models)"
   ]
  },
  {
   "cell_type": "code",
   "execution_count": 6,
   "id": "0fc0375b",
   "metadata": {},
   "outputs": [],
   "source": [
    "wenjian_acc, wenjian_label_acc = holdout_validation(wenjian_x_test, wenjian_y_test, chloe_models)"
   ]
  },
  {
   "cell_type": "code",
   "execution_count": 7,
   "id": "6e867b0b",
   "metadata": {},
   "outputs": [
    {
     "data": {
      "image/png": "[encoded data removed]",
      "text/plain": [
       "<Figure size 640x480 with 1 Axes>"
      ]
     },
     "metadata": {},
     "output_type": "display_data"
    }
   ],
   "source": [
    "import matplotlib.pyplot as plt\n",
    "import numpy as np\n",
    "\n",
    "x = np.arange(len(multioutput_models))  # [0, 1, 2]\n",
    "width = 0.25  # width of each bar\n",
    "\n",
    "# Plot bars side by side\n",
    "plt.bar(x - width, chloe_acc, width, label='Chloe', color='dodgerblue')\n",
    "plt.bar(x, libing_acc, width, label='Libing', color='deepskyblue')\n",
    "plt.bar(x + width, wenjian_acc, width, label='Wenjian', color='lightskyblue')\n",
    "\n",
    "# Add labels\n",
    "model_names = [name for name, _ in multioutput_models]\n",
    "\n",
    "plt.xticks(x, model_names, rotation=-45)\n",
    "plt.ylabel('Exact Accuracy (%)')\n",
    "plt.legend(loc='upper left', bbox_to_anchor=(1.05, 1))\n",
    "plt.show()"
   ]
  }
 ],
 "metadata": {
  "kernelspec": {
   "display_name": "Python 3",
   "language": "python",
   "name": "python3"
  },
  "language_info": {
   "codemirror_mode": {
    "name": "ipython",
    "version": 3
   },
   "file_extension": ".py",
   "mimetype": "text/x-python",
   "name": "python",
   "nbconvert_exporter": "python",
   "pygments_lexer": "ipython3",
   "version": "3.11.9"
  }
 },
 "nbformat": 4,
 "nbformat_minor": 5
}
