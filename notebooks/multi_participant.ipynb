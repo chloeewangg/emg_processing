{
 "cells": [
  {
   "cell_type": "code",
   "execution_count": 1,
   "id": "6e00c029-aac3-4817-bdbc-a5f4d6fe378e",
   "metadata": {},
   "outputs": [],
   "source": [
    "import os\n",
    "import pandas as pd\n",
    "import random\n",
    "import shutil\n",
    "import numpy as np\n",
    "\n",
    "def num_files(data_path):\n",
    "    df = []\n",
    "    \n",
    "    for class_name in os.listdir(data_path):\n",
    "        class_path = os.path.join(data_path, class_name)\n",
    "        if os.path.isdir(class_path):\n",
    "            num_files = len(os.listdir(class_path))\n",
    "            df.append((class_name, num_files))\n",
    "\n",
    "    return pd.DataFrame(df, columns=['Class', 'Num Files'])"
   ]
  },
  {
   "cell_type": "code",
   "execution_count": 2,
   "id": "29fe4e52-f8dc-4cda-b21e-b81684072ddc",
   "metadata": {},
   "outputs": [],
   "source": [
    "os.chdir(\"..\") \n",
    "from src import feature_extraction, models, utils\n",
    "\n",
    "def train_participant(df, random_state, cm, print_metrics, print_vol_labels):\n",
    "    x = df.drop(columns=['volume', 'substance'])\n",
    "    y = df[['substance', 'volume']]\n",
    "    \n",
    "    acc, label_acc = models.train_multioutput_models(x, y, random_state, cm, print_metrics)\n",
    "\n",
    "    if print_vol_labels:\n",
    "        volume_labels = np.unique(y['volume'])\n",
    "        df_volume_labels = pd.DataFrame(volume_labels, columns=['volume'])\n",
    "        print(df_volume_labels)\n",
    "        \n",
    "    return acc, label_acc"
   ]
  },
  {
   "cell_type": "code",
   "execution_count": 3,
   "id": "20d48b97-1c3c-4ff7-9089-7e2723a115b1",
   "metadata": {},
   "outputs": [],
   "source": [
    "exclude = ['oral prep 0', 'apple 20', 'yogurt 20', 'chewing 0', 'grape 5', 'popcorn 1', 'redu oral prep 0', 'carrot 5']"
   ]
  },
  {
   "cell_type": "code",
   "execution_count": 4,
   "id": "2a717bb3-859b-4aa0-a199-b5689ce984a0",
   "metadata": {},
   "outputs": [
    {
     "name": "stdout",
     "output_type": "stream",
     "text": [
      "{'apple': 0, 'dry swallow': 1, 'jelly': 2, 'milk': 3, 'water': 4, 'yogurt': 5}\n"
     ]
    }
   ],
   "source": [
    "chloe_path = r'C:\\Users\\chloe\\OneDrive\\Desktop\\swallow EMG\\data\\participants\\chloe\\extracted signals'   \n",
    "chloe_df, chloe_map = feature_extraction.make_df(chloe_path, exclude)\n",
    "print(chloe_map)"
   ]
  },
  {
   "cell_type": "code",
   "execution_count": 5,
   "id": "17ec2504-8d9f-4a58-8912-c51a4f2523c5",
   "metadata": {},
   "outputs": [
    {
     "name": "stderr",
     "output_type": "stream",
     "text": [
      "C:\\Users\\chloe\\AppData\\Local\\Temp\\ipykernel_12788\\4163262930.py:5: PerformanceWarning: dropping on a non-lexsorted multi-index without a level parameter may impact performance.\n",
      "  x = df.drop(columns=['volume', 'substance'])\n"
     ]
    },
    {
     "name": "stdout",
     "output_type": "stream",
     "text": [
      "SVM\n",
      "Exact Match Accuracy: 95.8333\n",
      "Per-Label Accuracies: [95.83333333 97.91666667]\n",
      "----------------------------\n",
      "KNN\n",
      "Exact Match Accuracy: 93.7500\n",
      "Per-Label Accuracies: [95.83333333 97.91666667]\n",
      "----------------------------\n",
      "Decision Tree\n",
      "Exact Match Accuracy: 91.6667\n",
      "Per-Label Accuracies: [ 91.66666667 100.        ]\n",
      "----------------------------\n",
      "Naive Bayes\n",
      "Exact Match Accuracy: 68.7500\n",
      "Per-Label Accuracies: [89.58333333 77.08333333]\n",
      "----------------------------\n",
      "Logistic Regression\n",
      "Exact Match Accuracy: 97.9167\n",
      "Per-Label Accuracies: [ 97.91666667 100.        ]\n",
      "----------------------------\n",
      "Gradient Boost\n",
      "Exact Match Accuracy: 91.6667\n",
      "Per-Label Accuracies: [91.66666667 97.91666667]\n",
      "----------------------------\n",
      "  volume\n",
      "0      0\n",
      "1     10\n",
      "2     20\n"
     ]
    }
   ],
   "source": [
    "chloe_acc, chloe_label_acc = train_participant(chloe_df, 42, False, True, True)"
   ]
  },
  {
   "cell_type": "code",
   "execution_count": 6,
   "id": "d3e09677-c71d-4f41-b5fb-a6813fba9886",
   "metadata": {},
   "outputs": [
    {
     "name": "stdout",
     "output_type": "stream",
     "text": [
      "{'apple': 0, 'dry swallow': 1, 'jelly': 2, 'milk': 3, 'water': 4, 'yogurt': 5}\n"
     ]
    }
   ],
   "source": [
    "libing_path = r'C:\\Users\\chloe\\OneDrive\\Desktop\\swallow EMG\\data\\participants\\libing\\extracted signals'\n",
    "libing_df, libing_map = feature_extraction.make_df(libing_path, exclude)\n",
    "print(libing_map)"
   ]
  },
  {
   "cell_type": "code",
   "execution_count": 7,
   "id": "08a2e5ef-ee90-4d0a-885c-8c0bacd97268",
   "metadata": {},
   "outputs": [
    {
     "name": "stderr",
     "output_type": "stream",
     "text": [
      "C:\\Users\\chloe\\AppData\\Local\\Temp\\ipykernel_12788\\4163262930.py:5: PerformanceWarning: dropping on a non-lexsorted multi-index without a level parameter may impact performance.\n",
      "  x = df.drop(columns=['volume', 'substance'])\n"
     ]
    },
    {
     "name": "stdout",
     "output_type": "stream",
     "text": [
      "SVM\n",
      "Exact Match Accuracy: 62.5000\n",
      "Per-Label Accuracies: [75.  87.5]\n",
      "----------------------------\n",
      "KNN\n",
      "Exact Match Accuracy: 50.0000\n",
      "Per-Label Accuracies: [50.  87.5]\n",
      "----------------------------\n",
      "Decision Tree\n",
      "Exact Match Accuracy: 37.5000\n",
      "Per-Label Accuracies: [37.5 87.5]\n",
      "----------------------------\n",
      "Naive Bayes\n",
      "Exact Match Accuracy: 50.0000\n",
      "Per-Label Accuracies: [75.  62.5]\n",
      "----------------------------\n",
      "Logistic Regression\n",
      "Exact Match Accuracy: 62.5000\n",
      "Per-Label Accuracies: [75.  87.5]\n",
      "----------------------------\n",
      "Gradient Boost\n",
      "Exact Match Accuracy: 37.5000\n",
      "Per-Label Accuracies: [62.5 75. ]\n",
      "----------------------------\n",
      "  volume\n",
      "0      0\n",
      "1     10\n",
      "2     20\n"
     ]
    }
   ],
   "source": [
    "libing_acc, libing_label_acc = train_participant(libing_df, 42, False, True, True)"
   ]
  },
  {
   "cell_type": "code",
   "execution_count": 8,
   "id": "99cec831-ca9e-40ce-b7c8-f370d40a83a7",
   "metadata": {},
   "outputs": [
    {
     "name": "stdout",
     "output_type": "stream",
     "text": [
      "{'apple': 0, 'dry swallow': 1, 'jelly': 2, 'milk': 3, 'water': 4, 'yogurt': 5}\n"
     ]
    }
   ],
   "source": [
    "wenjian_path = r'C:\\Users\\chloe\\OneDrive\\Desktop\\swallow EMG\\data\\participants\\wenjian\\extracted signals'\n",
    "wenjian_df, wenjian_map = feature_extraction.make_df(wenjian_path, exclude)\n",
    "print(wenjian_map)"
   ]
  },
  {
   "cell_type": "code",
   "execution_count": 9,
   "id": "5ac762b7-5117-4917-88fb-e4a61345d948",
   "metadata": {},
   "outputs": [
    {
     "name": "stderr",
     "output_type": "stream",
     "text": [
      "C:\\Users\\chloe\\AppData\\Local\\Temp\\ipykernel_12788\\4163262930.py:5: PerformanceWarning: dropping on a non-lexsorted multi-index without a level parameter may impact performance.\n",
      "  x = df.drop(columns=['volume', 'substance'])\n"
     ]
    },
    {
     "name": "stdout",
     "output_type": "stream",
     "text": [
      "SVM\n",
      "Exact Match Accuracy: 62.5000\n",
      "Per-Label Accuracies: [75.  87.5]\n",
      "----------------------------\n",
      "KNN\n",
      "Exact Match Accuracy: 50.0000\n",
      "Per-Label Accuracies: [75. 75.]\n",
      "----------------------------\n",
      "Decision Tree\n",
      "Exact Match Accuracy: 25.0000\n",
      "Per-Label Accuracies: [62.5 37.5]\n",
      "----------------------------\n",
      "Naive Bayes\n",
      "Exact Match Accuracy: 50.0000\n",
      "Per-Label Accuracies: [75.  62.5]\n",
      "----------------------------\n",
      "Logistic Regression\n",
      "Exact Match Accuracy: 62.5000\n",
      "Per-Label Accuracies: [75.  87.5]\n",
      "----------------------------\n",
      "Gradient Boost\n",
      "Exact Match Accuracy: 25.0000\n",
      "Per-Label Accuracies: [50.  62.5]\n",
      "----------------------------\n",
      "  volume\n",
      "0      0\n",
      "1     10\n",
      "2     20\n"
     ]
    }
   ],
   "source": [
    "wenjian_acc, wenjian_label_acc = train_participant(wenjian_df, 42, False, True, True)"
   ]
  },
  {
   "cell_type": "code",
   "execution_count": 10,
   "id": "bc9268b6-fef8-4f08-ae61-81157f8df745",
   "metadata": {},
   "outputs": [
    {
     "data": {
      "image/png": "[encoded data removed]",
      "text/plain": [
       "<Figure size 640x480 with 1 Axes>"
      ]
     },
     "metadata": {},
     "output_type": "display_data"
    }
   ],
   "source": [
    "import matplotlib.pyplot as plt\n",
    "import numpy as np\n",
    "from src.models import single_models\n",
    "\n",
    "model_names = [name for name, _ in single_models]\n",
    "\n",
    "x = np.arange(len(single_models))  # [0, 1, 2]\n",
    "width = 0.25  # width of each bar\n",
    "\n",
    "# Plot bars side by side\n",
    "plt.bar(x - width, chloe_acc, width, label='Chloe', color='dodgerblue')\n",
    "plt.bar(x, libing_acc, width, label='Libing', color='deepskyblue')\n",
    "plt.bar(x + width, wenjian_acc, width, label='Wenjian', color='lightskyblue')\n",
    "\n",
    "# Add labels\n",
    "plt.xticks(x, model_names, rotation=-45)\n",
    "plt.ylabel('Exact Accuracy (%)')\n",
    "plt.legend(loc='upper left', bbox_to_anchor=(1.05, 1))\n",
    "plt.show()"
   ]
  },
  {
   "cell_type": "code",
   "execution_count": 11,
   "id": "2d493bc4",
   "metadata": {},
   "outputs": [
    {
     "name": "stderr",
     "output_type": "stream",
     "text": [
      "C:\\Users\\chloe\\AppData\\Local\\Temp\\ipykernel_12788\\1458217129.py:1: PerformanceWarning: dropping on a non-lexsorted multi-index without a level parameter may impact performance.\n",
      "  chloe_df_limited = chloe_df.groupby(['substance', 'volume']).apply(lambda x: x.sample(min(len(x), 5))).reset_index(drop=True)\n",
      "C:\\Users\\chloe\\AppData\\Local\\Temp\\ipykernel_12788\\1458217129.py:1: DeprecationWarning: DataFrameGroupBy.apply operated on the grouping columns. This behavior is deprecated, and in a future version of pandas the grouping columns will be excluded from the operation. Either pass `include_groups=False` to exclude the groupings or explicitly select the grouping columns after groupby to silence this warning.\n",
      "  chloe_df_limited = chloe_df.groupby(['substance', 'volume']).apply(lambda x: x.sample(min(len(x), 5))).reset_index(drop=True)\n"
     ]
    }
   ],
   "source": [
    "chloe_df_limited = chloe_df.groupby(['substance', 'volume']).apply(lambda x: x.sample(min(len(x), 5))).reset_index(drop=True)"
   ]
  },
  {
   "cell_type": "code",
   "execution_count": 12,
   "id": "0788b5f6",
   "metadata": {},
   "outputs": [
    {
     "name": "stderr",
     "output_type": "stream",
     "text": [
      "C:\\Users\\chloe\\AppData\\Local\\Temp\\ipykernel_12788\\4163262930.py:5: PerformanceWarning: dropping on a non-lexsorted multi-index without a level parameter may impact performance.\n",
      "  x = df.drop(columns=['volume', 'substance'])\n"
     ]
    },
    {
     "name": "stdout",
     "output_type": "stream",
     "text": [
      "SVM\n",
      "Exact Match Accuracy: 75.0000\n",
      "Per-Label Accuracies: [ 75. 100.]\n",
      "----------------------------\n",
      "KNN\n",
      "Exact Match Accuracy: 87.5000\n",
      "Per-Label Accuracies: [ 87.5 100. ]\n",
      "----------------------------\n",
      "Decision Tree\n",
      "Exact Match Accuracy: 100.0000\n",
      "Per-Label Accuracies: [100. 100.]\n",
      "----------------------------\n",
      "Naive Bayes\n",
      "Exact Match Accuracy: 87.5000\n",
      "Per-Label Accuracies: [ 87.5 100. ]\n",
      "----------------------------\n",
      "Logistic Regression\n",
      "Exact Match Accuracy: 87.5000\n",
      "Per-Label Accuracies: [ 87.5 100. ]\n",
      "----------------------------\n",
      "Gradient Boost\n",
      "Exact Match Accuracy: 62.5000\n",
      "Per-Label Accuracies: [75. 75.]\n",
      "----------------------------\n",
      "  volume\n",
      "0      0\n",
      "1     10\n",
      "2     20\n"
     ]
    }
   ],
   "source": [
    "chloe_acc_lim, chloe_label_acc_lim = train_participant(chloe_df_limited, 42, False, True, True)"
   ]
  },
  {
   "cell_type": "code",
   "execution_count": 13,
   "id": "78d61626",
   "metadata": {},
   "outputs": [
    {
     "data": {
      "image/png": "[encoded data removed]",
      "text/plain": [
       "<Figure size 640x480 with 1 Axes>"
      ]
     },
     "metadata": {},
     "output_type": "display_data"
    }
   ],
   "source": [
    "# Plot bars side by side\n",
    "plt.bar(x - width, chloe_acc_lim, width, label='Chloe (limited)', color='dodgerblue')\n",
    "plt.bar(x, libing_acc, width, label='Libing', color='deepskyblue')\n",
    "plt.bar(x + width, wenjian_acc, width, label='Wenjian', color='lightskyblue')\n",
    "\n",
    "# Add labels\n",
    "plt.xticks(x, model_names, rotation=-45)\n",
    "plt.ylabel('Exact Accuracy (%)')\n",
    "plt.legend(loc='upper left', bbox_to_anchor=(1.05, 1))\n",
    "plt.show()"
   ]
  },
  {
   "cell_type": "code",
   "execution_count": null,
   "id": "8945107a",
   "metadata": {},
   "outputs": [],
   "source": []
  }
 ],
 "metadata": {
  "kernelspec": {
   "display_name": "Python 3",
   "language": "python",
   "name": "python3"
  },
  "language_info": {
   "codemirror_mode": {
    "name": "ipython",
    "version": 3
   },
   "file_extension": ".py",
   "mimetype": "text/x-python",
   "name": "python",
   "nbconvert_exporter": "python",
   "pygments_lexer": "ipython3",
   "version": "3.11.9"
  }
 },
 "nbformat": 4,
 "nbformat_minor": 5
}
