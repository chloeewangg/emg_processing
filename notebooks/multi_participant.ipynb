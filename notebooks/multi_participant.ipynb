{
 "cells": [
  {
   "cell_type": "code",
   "execution_count": 1,
   "id": "6e00c029-aac3-4817-bdbc-a5f4d6fe378e",
   "metadata": {},
   "outputs": [],
   "source": [
    "import os\n",
    "import pandas as pd\n",
    "import random\n",
    "import shutil\n",
    "import numpy as np\n",
    "\n",
    "def num_files(data_path):\n",
    "    df = []\n",
    "    \n",
    "    for class_name in os.listdir(data_path):\n",
    "        class_path = os.path.join(data_path, class_name)\n",
    "        if os.path.isdir(class_path):\n",
    "            num_files = len(os.listdir(class_path))\n",
    "            df.append((class_name, num_files))\n",
    "\n",
    "    return pd.DataFrame(df, columns=['Class', 'Num Files'])"
   ]
  },
  {
   "cell_type": "code",
   "execution_count": 2,
   "id": "29fe4e52-f8dc-4cda-b21e-b81684072ddc",
   "metadata": {},
   "outputs": [],
   "source": [
    "os.chdir(\"..\") \n",
    "from src import feature_extraction, models, utils\n",
    "\n",
    "def train_participant(df, random_state, cm, print_metrics, print_vol_labels):\n",
    "    x = df.drop(columns=['volume', 'substance'])\n",
    "    y = df[['substance', 'volume']]\n",
    "    \n",
    "    acc, label_acc = models.train_multioutput_models(x, y, random_state, cm, print_metrics)\n",
    "\n",
    "    if print_vol_labels:\n",
    "        volume_labels = np.unique(y['volume'])\n",
    "        df_volume_labels = pd.DataFrame(volume_labels, columns=['volume'])\n",
    "        print(df_volume_labels)\n",
    "        \n",
    "    return acc, label_acc"
   ]
  },
  {
   "cell_type": "code",
   "execution_count": 3,
   "id": "20d48b97-1c3c-4ff7-9089-7e2723a115b1",
   "metadata": {},
   "outputs": [],
   "source": [
    "exclude = ['oral prep 0', 'apple 20', 'yogurt 20', 'chewing 0', 'grape 5', 'popcorn 1', 'redu oral prep 0', 'carrot 5']"
   ]
  },
  {
   "cell_type": "markdown",
   "id": "66841a0e",
   "metadata": {},
   "source": [
    "## Training classifiers on each participant"
   ]
  },
  {
   "cell_type": "code",
   "execution_count": 4,
   "id": "2a717bb3-859b-4aa0-a199-b5689ce984a0",
   "metadata": {},
   "outputs": [
    {
     "name": "stdout",
     "output_type": "stream",
     "text": [
      "{'apple': 0, 'dry swallow': 1, 'jelly': 2, 'milk': 3, 'water': 4, 'yogurt': 5}\n"
     ]
    }
   ],
   "source": [
    "path_p1 = r'C:\\Users\\chloe\\OneDrive\\Desktop\\swallow EMG\\data\\participants\\1\\extracted signals'   \n",
    "df_p1, map_p1 = feature_extraction.make_df(path_p1, exclude)\n",
    "print(map_p1)"
   ]
  },
  {
   "cell_type": "code",
   "execution_count": 5,
   "id": "17ec2504-8d9f-4a58-8912-c51a4f2523c5",
   "metadata": {},
   "outputs": [
    {
     "name": "stderr",
     "output_type": "stream",
     "text": [
      "C:\\Users\\chloe\\AppData\\Local\\Temp\\ipykernel_41824\\4163262930.py:5: PerformanceWarning: dropping on a non-lexsorted multi-index without a level parameter may impact performance.\n",
      "  x = df.drop(columns=['volume', 'substance'])\n"
     ]
    },
    {
     "name": "stdout",
     "output_type": "stream",
     "text": [
      "SVM\n",
      "Exact Match Accuracy: 95.8333\n",
      "Per-Label Accuracies: [97.91666667 97.91666667]\n",
      "----------------------------\n",
      "KNN\n",
      "Exact Match Accuracy: 93.7500\n",
      "Per-Label Accuracies: [ 93.75 100.  ]\n",
      "----------------------------\n",
      "Decision Tree\n",
      "Exact Match Accuracy: 91.6667\n",
      "Per-Label Accuracies: [93.75       97.91666667]\n",
      "----------------------------\n",
      "Naive Bayes\n",
      "Exact Match Accuracy: 75.0000\n",
      "Per-Label Accuracies: [93.75       79.16666667]\n",
      "----------------------------\n",
      "Logistic Regression\n",
      "Exact Match Accuracy: 97.9167\n",
      "Per-Label Accuracies: [ 97.91666667 100.        ]\n",
      "----------------------------\n",
      "Gradient Boost\n",
      "Exact Match Accuracy: 93.7500\n",
      "Per-Label Accuracies: [93.75       97.91666667]\n",
      "----------------------------\n",
      "   volume\n",
      "0       0\n",
      "1      10\n",
      "2      20\n"
     ]
    }
   ],
   "source": [
    "acc_p1, label_acc_p1 = train_participant(df_p1, 42, False, True, True)"
   ]
  },
  {
   "cell_type": "code",
   "execution_count": 6,
   "id": "d3e09677-c71d-4f41-b5fb-a6813fba9886",
   "metadata": {},
   "outputs": [
    {
     "name": "stdout",
     "output_type": "stream",
     "text": [
      "{'apple': 0, 'dry swallow': 1, 'jelly': 2, 'milk': 3, 'water': 4, 'yogurt': 5}\n"
     ]
    }
   ],
   "source": [
    "path_p2 = r'C:\\Users\\chloe\\OneDrive\\Desktop\\swallow EMG\\data\\participants\\2\\extracted signals'\n",
    "df_p2, map_p2 = feature_extraction.make_df(path_p2, exclude)\n",
    "print(map_p2)"
   ]
  },
  {
   "cell_type": "code",
   "execution_count": 7,
   "id": "08a2e5ef-ee90-4d0a-885c-8c0bacd97268",
   "metadata": {},
   "outputs": [
    {
     "name": "stderr",
     "output_type": "stream",
     "text": [
      "C:\\Users\\chloe\\AppData\\Local\\Temp\\ipykernel_41824\\4163262930.py:5: PerformanceWarning: dropping on a non-lexsorted multi-index without a level parameter may impact performance.\n",
      "  x = df.drop(columns=['volume', 'substance'])\n"
     ]
    },
    {
     "name": "stdout",
     "output_type": "stream",
     "text": [
      "SVM\n",
      "Exact Match Accuracy: 62.5000\n",
      "Per-Label Accuracies: [75.  87.5]\n",
      "----------------------------\n",
      "KNN\n",
      "Exact Match Accuracy: 50.0000\n",
      "Per-Label Accuracies: [62.5 87.5]\n",
      "----------------------------\n",
      "Decision Tree\n",
      "Exact Match Accuracy: 37.5000\n",
      "Per-Label Accuracies: [37.5 87.5]\n",
      "----------------------------\n",
      "Naive Bayes\n",
      "Exact Match Accuracy: 75.0000\n",
      "Per-Label Accuracies: [87.5 87.5]\n",
      "----------------------------\n",
      "Logistic Regression\n",
      "Exact Match Accuracy: 62.5000\n",
      "Per-Label Accuracies: [75.  87.5]\n",
      "----------------------------\n",
      "Gradient Boost\n",
      "Exact Match Accuracy: 37.5000\n",
      "Per-Label Accuracies: [62.5 75. ]\n",
      "----------------------------\n",
      "   volume\n",
      "0       0\n",
      "1      10\n",
      "2      20\n"
     ]
    }
   ],
   "source": [
    "acc_p2, label_acc_p2 = train_participant(df_p2, 42, False, True, True)"
   ]
  },
  {
   "cell_type": "code",
   "execution_count": 8,
   "id": "99cec831-ca9e-40ce-b7c8-f370d40a83a7",
   "metadata": {},
   "outputs": [
    {
     "name": "stdout",
     "output_type": "stream",
     "text": [
      "{'apple': 0, 'dry swallow': 1, 'jelly': 2, 'milk': 3, 'water': 4, 'yogurt': 5}\n"
     ]
    }
   ],
   "source": [
    "path_p3 = r'C:\\Users\\chloe\\OneDrive\\Desktop\\swallow EMG\\data\\participants\\3\\extracted signals'\n",
    "df_p3, map_p3 = feature_extraction.make_df(path_p3, exclude)\n",
    "print(map_p3)"
   ]
  },
  {
   "cell_type": "code",
   "execution_count": 9,
   "id": "5ac762b7-5117-4917-88fb-e4a61345d948",
   "metadata": {},
   "outputs": [
    {
     "name": "stderr",
     "output_type": "stream",
     "text": [
      "C:\\Users\\chloe\\AppData\\Local\\Temp\\ipykernel_41824\\4163262930.py:5: PerformanceWarning: dropping on a non-lexsorted multi-index without a level parameter may impact performance.\n",
      "  x = df.drop(columns=['volume', 'substance'])\n"
     ]
    },
    {
     "name": "stdout",
     "output_type": "stream",
     "text": [
      "SVM\n",
      "Exact Match Accuracy: 37.5000\n",
      "Per-Label Accuracies: [75.  62.5]\n",
      "----------------------------\n",
      "KNN\n",
      "Exact Match Accuracy: 50.0000\n",
      "Per-Label Accuracies: [87.5 62.5]\n",
      "----------------------------\n",
      "Decision Tree\n",
      "Exact Match Accuracy: 37.5000\n",
      "Per-Label Accuracies: [50. 50.]\n",
      "----------------------------\n",
      "Naive Bayes\n",
      "Exact Match Accuracy: 50.0000\n",
      "Per-Label Accuracies: [75.  62.5]\n",
      "----------------------------\n",
      "Logistic Regression\n",
      "Exact Match Accuracy: 50.0000\n",
      "Per-Label Accuracies: [75. 75.]\n",
      "----------------------------\n",
      "Gradient Boost\n",
      "Exact Match Accuracy: 37.5000\n",
      "Per-Label Accuracies: [37.5 62.5]\n",
      "----------------------------\n",
      "   volume\n",
      "0       0\n",
      "1      10\n",
      "2      20\n"
     ]
    }
   ],
   "source": [
    "acc_p3, label_acc_p3 = train_participant(df_p3, 42, False, True, True)"
   ]
  },
  {
   "cell_type": "code",
   "execution_count": 10,
   "id": "bc9268b6-fef8-4f08-ae61-81157f8df745",
   "metadata": {},
   "outputs": [
    {
     "data": {
      "image/png": "[encoded data removed]",
      "text/plain": [
       "<Figure size 640x480 with 1 Axes>"
      ]
     },
     "metadata": {},
     "output_type": "display_data"
    }
   ],
   "source": [
    "import matplotlib.pyplot as plt\n",
    "import numpy as np\n",
    "from src.models import single_models\n",
    "\n",
    "model_names = [name for name, _ in single_models]\n",
    "\n",
    "x = np.arange(len(single_models))  # [0, 1, 2]\n",
    "width = 0.25  # width of each bar\n",
    "\n",
    "# Plot bars side by side\n",
    "plt.bar(x - width, acc_p1, width, label='Participant 1', color='dodgerblue')\n",
    "plt.bar(x, acc_p2, width, label='Participant 2', color='deepskyblue')\n",
    "plt.bar(x + width, acc_p3, width, label='Participant 3', color='lightskyblue')\n",
    "\n",
    "# Add labels\n",
    "plt.xticks(x, model_names, rotation=-45)\n",
    "plt.ylabel('Exact Accuracy (%)')\n",
    "plt.legend(loc='upper left', bbox_to_anchor=(1.05, 1))\n",
    "plt.show()"
   ]
  },
  {
   "cell_type": "markdown",
   "id": "3a00792f",
   "metadata": {},
   "source": [
    "Participant 1 has many more samples than participants 2 and 3, so I limited the number of samples used from participant 1 to be equal to participants 2 and 3."
   ]
  },
  {
   "cell_type": "code",
   "execution_count": 11,
   "id": "2d493bc4",
   "metadata": {},
   "outputs": [
    {
     "name": "stderr",
     "output_type": "stream",
     "text": [
      "C:\\Users\\chloe\\AppData\\Local\\Temp\\ipykernel_41824\\3880676526.py:1: PerformanceWarning: dropping on a non-lexsorted multi-index without a level parameter may impact performance.\n",
      "  df_limited_p1 = df_p1.groupby(['substance', 'volume']).apply(lambda x: x.sample(min(len(x), 5))).reset_index(drop=True)\n",
      "C:\\Users\\chloe\\AppData\\Local\\Temp\\ipykernel_41824\\3880676526.py:1: DeprecationWarning: DataFrameGroupBy.apply operated on the grouping columns. This behavior is deprecated, and in a future version of pandas the grouping columns will be excluded from the operation. Either pass `include_groups=False` to exclude the groupings or explicitly select the grouping columns after groupby to silence this warning.\n",
      "  df_limited_p1 = df_p1.groupby(['substance', 'volume']).apply(lambda x: x.sample(min(len(x), 5))).reset_index(drop=True)\n"
     ]
    }
   ],
   "source": [
    "df_limited_p1 = df_p1.groupby(['substance', 'volume']).apply(lambda x: x.sample(min(len(x), 5))).reset_index(drop=True)"
   ]
  },
  {
   "cell_type": "code",
   "execution_count": 12,
   "id": "0788b5f6",
   "metadata": {},
   "outputs": [
    {
     "name": "stderr",
     "output_type": "stream",
     "text": [
      "C:\\Users\\chloe\\AppData\\Local\\Temp\\ipykernel_41824\\4163262930.py:5: PerformanceWarning: dropping on a non-lexsorted multi-index without a level parameter may impact performance.\n",
      "  x = df.drop(columns=['volume', 'substance'])\n"
     ]
    },
    {
     "name": "stdout",
     "output_type": "stream",
     "text": [
      "SVM\n",
      "Exact Match Accuracy: 75.0000\n",
      "Per-Label Accuracies: [100.  75.]\n",
      "----------------------------\n",
      "KNN\n",
      "Exact Match Accuracy: 87.5000\n",
      "Per-Label Accuracies: [100.   87.5]\n",
      "----------------------------\n",
      "Decision Tree\n",
      "Exact Match Accuracy: 50.0000\n",
      "Per-Label Accuracies: [62.5 87.5]\n",
      "----------------------------\n",
      "Naive Bayes\n",
      "Exact Match Accuracy: 62.5000\n",
      "Per-Label Accuracies: [87.5 75. ]\n",
      "----------------------------\n",
      "Logistic Regression\n",
      "Exact Match Accuracy: 87.5000\n",
      "Per-Label Accuracies: [100.   87.5]\n",
      "----------------------------\n",
      "Gradient Boost\n",
      "Exact Match Accuracy: 75.0000\n",
      "Per-Label Accuracies: [87.5 75. ]\n",
      "----------------------------\n",
      "   volume\n",
      "0       0\n",
      "1      10\n",
      "2      20\n"
     ]
    }
   ],
   "source": [
    "acc_lim_p1, label_acc_lim_p1 = train_participant(df_limited_p1, 42, False, True, True)"
   ]
  },
  {
   "cell_type": "code",
   "execution_count": 13,
   "id": "78d61626",
   "metadata": {},
   "outputs": [
    {
     "data": {
      "image/png": "[encoded data removed]",
      "text/plain": [
       "<Figure size 640x480 with 1 Axes>"
      ]
     },
     "metadata": {},
     "output_type": "display_data"
    }
   ],
   "source": [
    "# Plot bars side by side\n",
    "plt.bar(x - width, acc_lim_p1, width, label='Participant 1 (limited)', color='dodgerblue')\n",
    "plt.bar(x, acc_p2, width, label='Participant 2', color='deepskyblue')\n",
    "plt.bar(x + width, acc_p3, width, label='Participant 3', color='lightskyblue')\n",
    "\n",
    "# Add labels\n",
    "plt.xticks(x, model_names, rotation=-45)\n",
    "plt.ylabel('Exact Accuracy (%)')\n",
    "plt.legend(loc='upper left', bbox_to_anchor=(1.05, 1))\n",
    "plt.show()"
   ]
  },
  {
   "cell_type": "markdown",
   "id": "0b2beec2",
   "metadata": {},
   "source": [
    "## Training on all participant data"
   ]
  },
  {
   "cell_type": "code",
   "execution_count": 14,
   "id": "8945107a",
   "metadata": {},
   "outputs": [
    {
     "data": {
      "text/html": [
       "<div>\n",
       "<style scoped>\n",
       "    .dataframe tbody tr th:only-of-type {\n",
       "        vertical-align: middle;\n",
       "    }\n",
       "\n",
       "    .dataframe tbody tr th {\n",
       "        vertical-align: top;\n",
       "    }\n",
       "\n",
       "    .dataframe thead tr th {\n",
       "        text-align: left;\n",
       "    }\n",
       "</style>\n",
       "<table border=\"1\" class=\"dataframe\">\n",
       "  <thead>\n",
       "    <tr>\n",
       "      <th></th>\n",
       "      <th>substance</th>\n",
       "      <th>volume</th>\n",
       "      <th colspan=\"8\" halign=\"left\">1</th>\n",
       "      <th>...</th>\n",
       "      <th>21</th>\n",
       "      <th colspan=\"9\" halign=\"left\">22</th>\n",
       "    </tr>\n",
       "    <tr>\n",
       "      <th></th>\n",
       "      <th></th>\n",
       "      <th></th>\n",
       "      <th>min</th>\n",
       "      <th>max</th>\n",
       "      <th>mav</th>\n",
       "      <th>rms</th>\n",
       "      <th>wavelength</th>\n",
       "      <th>var</th>\n",
       "      <th>abs_diffs_signal</th>\n",
       "      <th>shannon_entropy</th>\n",
       "      <th>...</th>\n",
       "      <th>iemg</th>\n",
       "      <th>min</th>\n",
       "      <th>max</th>\n",
       "      <th>mav</th>\n",
       "      <th>rms</th>\n",
       "      <th>wavelength</th>\n",
       "      <th>var</th>\n",
       "      <th>abs_diffs_signal</th>\n",
       "      <th>shannon_entropy</th>\n",
       "      <th>iemg</th>\n",
       "    </tr>\n",
       "  </thead>\n",
       "  <tbody>\n",
       "    <tr>\n",
       "      <th>0</th>\n",
       "      <td>0</td>\n",
       "      <td>10</td>\n",
       "      <td>-82.3953</td>\n",
       "      <td>84.7438</td>\n",
       "      <td>10.532140</td>\n",
       "      <td>16.572327</td>\n",
       "      <td>8938.223938</td>\n",
       "      <td>274.641479</td>\n",
       "      <td>8938.223938</td>\n",
       "      <td>3.289639</td>\n",
       "      <td>...</td>\n",
       "      <td>4222820</td>\n",
       "      <td>-13160</td>\n",
       "      <td>14560</td>\n",
       "      <td>4577.86</td>\n",
       "      <td>5597.687773</td>\n",
       "      <td>391580</td>\n",
       "      <td>3.078873e+07</td>\n",
       "      <td>391580</td>\n",
       "      <td>4.487950</td>\n",
       "      <td>4577860</td>\n",
       "    </tr>\n",
       "    <tr>\n",
       "      <th>1</th>\n",
       "      <td>0</td>\n",
       "      <td>10</td>\n",
       "      <td>-88.7979</td>\n",
       "      <td>83.8474</td>\n",
       "      <td>9.786745</td>\n",
       "      <td>15.110132</td>\n",
       "      <td>8462.514306</td>\n",
       "      <td>228.315945</td>\n",
       "      <td>8462.514306</td>\n",
       "      <td>3.187249</td>\n",
       "      <td>...</td>\n",
       "      <td>2735180</td>\n",
       "      <td>-12880</td>\n",
       "      <td>10780</td>\n",
       "      <td>3397.24</td>\n",
       "      <td>4320.741140</td>\n",
       "      <td>395500</td>\n",
       "      <td>1.861505e+07</td>\n",
       "      <td>395500</td>\n",
       "      <td>4.375849</td>\n",
       "      <td>3397240</td>\n",
       "    </tr>\n",
       "    <tr>\n",
       "      <th>2</th>\n",
       "      <td>0</td>\n",
       "      <td>10</td>\n",
       "      <td>-128.2250</td>\n",
       "      <td>92.8075</td>\n",
       "      <td>12.894846</td>\n",
       "      <td>22.051418</td>\n",
       "      <td>10825.215147</td>\n",
       "      <td>486.264958</td>\n",
       "      <td>10825.215147</td>\n",
       "      <td>3.115120</td>\n",
       "      <td>...</td>\n",
       "      <td>3971100</td>\n",
       "      <td>-14420</td>\n",
       "      <td>11480</td>\n",
       "      <td>2972.34</td>\n",
       "      <td>4003.199570</td>\n",
       "      <td>406280</td>\n",
       "      <td>1.563100e+07</td>\n",
       "      <td>406280</td>\n",
       "      <td>4.115409</td>\n",
       "      <td>2972340</td>\n",
       "    </tr>\n",
       "    <tr>\n",
       "      <th>3</th>\n",
       "      <td>0</td>\n",
       "      <td>10</td>\n",
       "      <td>-110.6930</td>\n",
       "      <td>97.9600</td>\n",
       "      <td>10.575004</td>\n",
       "      <td>18.209411</td>\n",
       "      <td>9086.891291</td>\n",
       "      <td>331.582607</td>\n",
       "      <td>9086.891291</td>\n",
       "      <td>2.962986</td>\n",
       "      <td>...</td>\n",
       "      <td>4499180</td>\n",
       "      <td>-19460</td>\n",
       "      <td>14700</td>\n",
       "      <td>4790.38</td>\n",
       "      <td>6103.433231</td>\n",
       "      <td>422380</td>\n",
       "      <td>3.696092e+07</td>\n",
       "      <td>422380</td>\n",
       "      <td>4.223237</td>\n",
       "      <td>4790380</td>\n",
       "    </tr>\n",
       "    <tr>\n",
       "      <th>4</th>\n",
       "      <td>0</td>\n",
       "      <td>10</td>\n",
       "      <td>-85.8436</td>\n",
       "      <td>64.2628</td>\n",
       "      <td>10.777697</td>\n",
       "      <td>16.439146</td>\n",
       "      <td>9150.173058</td>\n",
       "      <td>270.245230</td>\n",
       "      <td>9150.173058</td>\n",
       "      <td>3.497589</td>\n",
       "      <td>...</td>\n",
       "      <td>3358320</td>\n",
       "      <td>-12320</td>\n",
       "      <td>10080</td>\n",
       "      <td>2697.10</td>\n",
       "      <td>3833.032794</td>\n",
       "      <td>345240</td>\n",
       "      <td>1.468730e+07</td>\n",
       "      <td>345240</td>\n",
       "      <td>4.134484</td>\n",
       "      <td>2697100</td>\n",
       "    </tr>\n",
       "    <tr>\n",
       "      <th>...</th>\n",
       "      <td>...</td>\n",
       "      <td>...</td>\n",
       "      <td>...</td>\n",
       "      <td>...</td>\n",
       "      <td>...</td>\n",
       "      <td>...</td>\n",
       "      <td>...</td>\n",
       "      <td>...</td>\n",
       "      <td>...</td>\n",
       "      <td>...</td>\n",
       "      <td>...</td>\n",
       "      <td>...</td>\n",
       "      <td>...</td>\n",
       "      <td>...</td>\n",
       "      <td>...</td>\n",
       "      <td>...</td>\n",
       "      <td>...</td>\n",
       "      <td>...</td>\n",
       "      <td>...</td>\n",
       "      <td>...</td>\n",
       "      <td>...</td>\n",
       "    </tr>\n",
       "    <tr>\n",
       "      <th>35</th>\n",
       "      <td>5</td>\n",
       "      <td>10</td>\n",
       "      <td>-63.9541</td>\n",
       "      <td>72.2357</td>\n",
       "      <td>13.076436</td>\n",
       "      <td>17.415477</td>\n",
       "      <td>15498.935331</td>\n",
       "      <td>303.298301</td>\n",
       "      <td>15498.935331</td>\n",
       "      <td>3.915314</td>\n",
       "      <td>...</td>\n",
       "      <td>9545620</td>\n",
       "      <td>-13020</td>\n",
       "      <td>31500</td>\n",
       "      <td>4806.48</td>\n",
       "      <td>7420.795052</td>\n",
       "      <td>283080</td>\n",
       "      <td>5.506818e+07</td>\n",
       "      <td>283080</td>\n",
       "      <td>3.858004</td>\n",
       "      <td>4806480</td>\n",
       "    </tr>\n",
       "    <tr>\n",
       "      <th>36</th>\n",
       "      <td>5</td>\n",
       "      <td>10</td>\n",
       "      <td>-86.1039</td>\n",
       "      <td>67.9453</td>\n",
       "      <td>12.480544</td>\n",
       "      <td>16.866867</td>\n",
       "      <td>15387.195046</td>\n",
       "      <td>284.490971</td>\n",
       "      <td>15387.195046</td>\n",
       "      <td>3.664392</td>\n",
       "      <td>...</td>\n",
       "      <td>10166380</td>\n",
       "      <td>-20020</td>\n",
       "      <td>33180</td>\n",
       "      <td>5386.22</td>\n",
       "      <td>8316.637518</td>\n",
       "      <td>358820</td>\n",
       "      <td>6.905886e+07</td>\n",
       "      <td>358820</td>\n",
       "      <td>3.779000</td>\n",
       "      <td>5386220</td>\n",
       "    </tr>\n",
       "    <tr>\n",
       "      <th>37</th>\n",
       "      <td>5</td>\n",
       "      <td>10</td>\n",
       "      <td>-66.9294</td>\n",
       "      <td>66.4570</td>\n",
       "      <td>13.246470</td>\n",
       "      <td>17.656275</td>\n",
       "      <td>15506.199016</td>\n",
       "      <td>311.742098</td>\n",
       "      <td>15506.199016</td>\n",
       "      <td>3.977486</td>\n",
       "      <td>...</td>\n",
       "      <td>10830820</td>\n",
       "      <td>-19180</td>\n",
       "      <td>23940</td>\n",
       "      <td>5178.88</td>\n",
       "      <td>7074.234771</td>\n",
       "      <td>336140</td>\n",
       "      <td>4.974790e+07</td>\n",
       "      <td>336140</td>\n",
       "      <td>4.191279</td>\n",
       "      <td>5178880</td>\n",
       "    </tr>\n",
       "    <tr>\n",
       "      <th>38</th>\n",
       "      <td>5</td>\n",
       "      <td>10</td>\n",
       "      <td>-81.6146</td>\n",
       "      <td>83.1651</td>\n",
       "      <td>13.054595</td>\n",
       "      <td>17.908864</td>\n",
       "      <td>14503.207393</td>\n",
       "      <td>320.724537</td>\n",
       "      <td>14503.207393</td>\n",
       "      <td>3.660768</td>\n",
       "      <td>...</td>\n",
       "      <td>10317020</td>\n",
       "      <td>-19740</td>\n",
       "      <td>26040</td>\n",
       "      <td>4370.38</td>\n",
       "      <td>6999.656992</td>\n",
       "      <td>301420</td>\n",
       "      <td>4.828889e+07</td>\n",
       "      <td>301420</td>\n",
       "      <td>3.694230</td>\n",
       "      <td>4370380</td>\n",
       "    </tr>\n",
       "    <tr>\n",
       "      <th>39</th>\n",
       "      <td>5</td>\n",
       "      <td>10</td>\n",
       "      <td>-97.7972</td>\n",
       "      <td>81.3140</td>\n",
       "      <td>13.341329</td>\n",
       "      <td>18.231295</td>\n",
       "      <td>15144.190226</td>\n",
       "      <td>332.379973</td>\n",
       "      <td>15144.190226</td>\n",
       "      <td>3.560670</td>\n",
       "      <td>...</td>\n",
       "      <td>10367140</td>\n",
       "      <td>-21560</td>\n",
       "      <td>21000</td>\n",
       "      <td>4276.72</td>\n",
       "      <td>6234.512972</td>\n",
       "      <td>347060</td>\n",
       "      <td>3.885161e+07</td>\n",
       "      <td>347060</td>\n",
       "      <td>3.914766</td>\n",
       "      <td>4276720</td>\n",
       "    </tr>\n",
       "  </tbody>\n",
       "</table>\n",
       "<p>120 rows × 200 columns</p>\n",
       "</div>"
      ],
      "text/plain": [
       "   substance volume         1                                               \\\n",
       "                          min      max        mav        rms    wavelength   \n",
       "0          0     10  -82.3953  84.7438  10.532140  16.572327   8938.223938   \n",
       "1          0     10  -88.7979  83.8474   9.786745  15.110132   8462.514306   \n",
       "2          0     10 -128.2250  92.8075  12.894846  22.051418  10825.215147   \n",
       "3          0     10 -110.6930  97.9600  10.575004  18.209411   9086.891291   \n",
       "4          0     10  -85.8436  64.2628  10.777697  16.439146   9150.173058   \n",
       "..       ...    ...       ...      ...        ...        ...           ...   \n",
       "35         5     10  -63.9541  72.2357  13.076436  17.415477  15498.935331   \n",
       "36         5     10  -86.1039  67.9453  12.480544  16.866867  15387.195046   \n",
       "37         5     10  -66.9294  66.4570  13.246470  17.656275  15506.199016   \n",
       "38         5     10  -81.6146  83.1651  13.054595  17.908864  14503.207393   \n",
       "39         5     10  -97.7972  81.3140  13.341329  18.231295  15144.190226   \n",
       "\n",
       "                                                 ...        21     22         \\\n",
       "           var abs_diffs_signal shannon_entropy  ...      iemg    min    max   \n",
       "0   274.641479      8938.223938        3.289639  ...   4222820 -13160  14560   \n",
       "1   228.315945      8462.514306        3.187249  ...   2735180 -12880  10780   \n",
       "2   486.264958     10825.215147        3.115120  ...   3971100 -14420  11480   \n",
       "3   331.582607      9086.891291        2.962986  ...   4499180 -19460  14700   \n",
       "4   270.245230      9150.173058        3.497589  ...   3358320 -12320  10080   \n",
       "..         ...              ...             ...  ...       ...    ...    ...   \n",
       "35  303.298301     15498.935331        3.915314  ...   9545620 -13020  31500   \n",
       "36  284.490971     15387.195046        3.664392  ...  10166380 -20020  33180   \n",
       "37  311.742098     15506.199016        3.977486  ...  10830820 -19180  23940   \n",
       "38  320.724537     14503.207393        3.660768  ...  10317020 -19740  26040   \n",
       "39  332.379973     15144.190226        3.560670  ...  10367140 -21560  21000   \n",
       "\n",
       "                                                                    \\\n",
       "        mav          rms wavelength           var abs_diffs_signal   \n",
       "0   4577.86  5597.687773     391580  3.078873e+07           391580   \n",
       "1   3397.24  4320.741140     395500  1.861505e+07           395500   \n",
       "2   2972.34  4003.199570     406280  1.563100e+07           406280   \n",
       "3   4790.38  6103.433231     422380  3.696092e+07           422380   \n",
       "4   2697.10  3833.032794     345240  1.468730e+07           345240   \n",
       "..      ...          ...        ...           ...              ...   \n",
       "35  4806.48  7420.795052     283080  5.506818e+07           283080   \n",
       "36  5386.22  8316.637518     358820  6.905886e+07           358820   \n",
       "37  5178.88  7074.234771     336140  4.974790e+07           336140   \n",
       "38  4370.38  6999.656992     301420  4.828889e+07           301420   \n",
       "39  4276.72  6234.512972     347060  3.885161e+07           347060   \n",
       "\n",
       "                             \n",
       "   shannon_entropy     iemg  \n",
       "0         4.487950  4577860  \n",
       "1         4.375849  3397240  \n",
       "2         4.115409  2972340  \n",
       "3         4.223237  4790380  \n",
       "4         4.134484  2697100  \n",
       "..             ...      ...  \n",
       "35        3.858004  4806480  \n",
       "36        3.779000  5386220  \n",
       "37        4.191279  5178880  \n",
       "38        3.694230  4370380  \n",
       "39        3.914766  4276720  \n",
       "\n",
       "[120 rows x 200 columns]"
      ]
     },
     "execution_count": 14,
     "metadata": {},
     "output_type": "execute_result"
    }
   ],
   "source": [
    "all_participants = pd.concat([df_limited_p1, df_p2, df_p3], axis=0)\n",
    "all_participants"
   ]
  },
  {
   "cell_type": "code",
   "execution_count": 15,
   "id": "de948158",
   "metadata": {},
   "outputs": [
    {
     "name": "stderr",
     "output_type": "stream",
     "text": [
      "C:\\Users\\chloe\\AppData\\Local\\Temp\\ipykernel_41824\\114170057.py:1: PerformanceWarning: dropping on a non-lexsorted multi-index without a level parameter may impact performance.\n",
      "  x = all_participants.drop(columns=['volume', 'substance'])\n"
     ]
    },
    {
     "name": "stdout",
     "output_type": "stream",
     "text": [
      "SVM\n",
      "Exact Match Accuracy: 54.1667\n",
      "Per-Label Accuracies: [66.66666667 70.83333333]\n",
      "----------------------------\n",
      "KNN\n",
      "Exact Match Accuracy: 54.1667\n",
      "Per-Label Accuracies: [70.83333333 75.        ]\n",
      "----------------------------\n",
      "Decision Tree\n",
      "Exact Match Accuracy: 33.3333\n",
      "Per-Label Accuracies: [54.16666667 66.66666667]\n",
      "----------------------------\n",
      "Naive Bayes\n",
      "Exact Match Accuracy: 29.1667\n",
      "Per-Label Accuracies: [45.83333333 45.83333333]\n",
      "----------------------------\n",
      "Logistic Regression\n",
      "Exact Match Accuracy: 45.8333\n",
      "Per-Label Accuracies: [66.66666667 66.66666667]\n",
      "----------------------------\n",
      "Gradient Boost\n",
      "Exact Match Accuracy: 54.1667\n",
      "Per-Label Accuracies: [62.5        79.16666667]\n",
      "----------------------------\n"
     ]
    }
   ],
   "source": [
    "x = all_participants.drop(columns=['volume', 'substance'])\n",
    "y = all_participants[['substance', 'volume']]\n",
    "    \n",
    "acc, label_acc = models.train_multioutput_models(x, y, 42, False, True)"
   ]
  },
  {
   "cell_type": "code",
   "execution_count": 16,
   "id": "c0b90589",
   "metadata": {},
   "outputs": [
    {
     "data": {
      "image/png": "[encoded data removed]",
      "text/plain": [
       "<Figure size 640x480 with 1 Axes>"
      ]
     },
     "metadata": {},
     "output_type": "display_data"
    }
   ],
   "source": [
    "from src import results\n",
    "\n",
    "results.plot_accuracy(acc)"
   ]
  },
  {
   "cell_type": "code",
   "execution_count": 17,
   "id": "92e44926",
   "metadata": {},
   "outputs": [],
   "source": [
    "df_limited_p1.to_csv(r'C:\\Users\\chloe\\OneDrive\\Desktop\\swallow EMG\\notebooks\\participant features\\p1_limited.csv', index=False)\n",
    "df_p2.to_csv(r'C:\\Users\\chloe\\OneDrive\\Desktop\\swallow EMG\\notebooks\\participant features\\p2.csv', index=False)\n",
    "df_p3.to_csv(r'C:\\Users\\chloe\\OneDrive\\Desktop\\swallow EMG\\notebooks\\participant features\\p3.csv', index=False)"
   ]
  }
 ],
 "metadata": {
  "kernelspec": {
   "display_name": "Python 3",
   "language": "python",
   "name": "python3"
  },
  "language_info": {
   "codemirror_mode": {
    "name": "ipython",
    "version": 3
   },
   "file_extension": ".py",
   "mimetype": "text/x-python",
   "name": "python",
   "nbconvert_exporter": "python",
   "pygments_lexer": "ipython3",
   "version": "3.11.9"
  }
 },
 "nbformat": 4,
 "nbformat_minor": 5
}
