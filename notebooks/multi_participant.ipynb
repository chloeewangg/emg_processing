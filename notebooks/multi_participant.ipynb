{
 "cells": [
  {
   "cell_type": "code",
   "execution_count": 1,
   "id": "6e00c029-aac3-4817-bdbc-a5f4d6fe378e",
   "metadata": {},
   "outputs": [],
   "source": [
    "import os\n",
    "import pandas as pd\n",
    "import random\n",
    "import shutil\n",
    "import numpy as np\n",
    "\n",
    "def num_files(data_path):\n",
    "    df = []\n",
    "    \n",
    "    for class_name in os.listdir(data_path):\n",
    "        class_path = os.path.join(data_path, class_name)\n",
    "        if os.path.isdir(class_path):\n",
    "            num_files = len(os.listdir(class_path))\n",
    "            df.append((class_name, num_files))\n",
    "\n",
    "    return pd.DataFrame(df, columns=['Class', 'Num Files'])"
   ]
  },
  {
   "cell_type": "code",
   "execution_count": 2,
   "id": "29fe4e52-f8dc-4cda-b21e-b81684072ddc",
   "metadata": {},
   "outputs": [],
   "source": [
    "os.chdir(\"..\") \n",
    "from src import feature_extraction, models, utils\n",
    "\n",
    "def train_participant(df, random_state, cm, print_metrics, print_vol_labels):\n",
    "    x = df.drop(columns=['volume', 'substance'])\n",
    "    y = df[['substance', 'volume']]\n",
    "    \n",
    "    acc, label_acc = models.train_multioutput_models(x, y, random_state, cm, print_metrics)\n",
    "\n",
    "    if print_vol_labels:\n",
    "        volume_labels = np.unique(y['volume'])\n",
    "        df_volume_labels = pd.DataFrame(volume_labels, columns=['volume'])\n",
    "        print(df_volume_labels)\n",
    "        \n",
    "    return acc, label_acc"
   ]
  },
  {
   "cell_type": "code",
   "execution_count": 3,
   "id": "20d48b97-1c3c-4ff7-9089-7e2723a115b1",
   "metadata": {},
   "outputs": [],
   "source": [
    "exclude = ['oral prep 0', 'apple 20', 'yogurt 20', 'chewing 0', 'grape 5', 'popcorn 1', 'redu oral prep 0', 'carrot 5']"
   ]
  },
  {
   "cell_type": "code",
   "execution_count": 4,
   "id": "2a717bb3-859b-4aa0-a199-b5689ce984a0",
   "metadata": {},
   "outputs": [
    {
     "name": "stdout",
     "output_type": "stream",
     "text": [
      "{'apple': 0, 'dry swallow': 1, 'jelly': 2, 'milk': 3, 'water': 4, 'yogurt': 5}\n"
     ]
    }
   ],
   "source": [
    "chloe_path = r'C:\\Users\\chloe\\OneDrive\\Desktop\\swallow EMG\\data\\participants\\chloe\\extracted signals'   \n",
    "chloe_df, chloe_map = feature_extraction.make_df(chloe_path, exclude)\n",
    "print(chloe_map)"
   ]
  },
  {
   "cell_type": "code",
   "execution_count": 5,
   "id": "17ec2504-8d9f-4a58-8912-c51a4f2523c5",
   "metadata": {},
   "outputs": [
    {
     "name": "stderr",
     "output_type": "stream",
     "text": [
      "C:\\Users\\chloe\\AppData\\Local\\Temp\\ipykernel_43320\\4163262930.py:5: PerformanceWarning: dropping on a non-lexsorted multi-index without a level parameter may impact performance.\n",
      "  x = df.drop(columns=['volume', 'substance'])\n"
     ]
    },
    {
     "name": "stdout",
     "output_type": "stream",
     "text": [
      "SVM\n",
      "Exact Match Accuracy: 95.8333\n",
      "Per-Label Accuracies: [97.91666667 97.91666667]\n",
      "----------------------------\n",
      "KNN\n",
      "Exact Match Accuracy: 93.7500\n",
      "Per-Label Accuracies: [ 93.75 100.  ]\n",
      "----------------------------\n",
      "Decision Tree\n",
      "Exact Match Accuracy: 91.6667\n",
      "Per-Label Accuracies: [93.75       97.91666667]\n",
      "----------------------------\n",
      "Naive Bayes\n",
      "Exact Match Accuracy: 75.0000\n",
      "Per-Label Accuracies: [93.75       79.16666667]\n",
      "----------------------------\n",
      "Logistic Regression\n",
      "Exact Match Accuracy: 97.9167\n",
      "Per-Label Accuracies: [ 97.91666667 100.        ]\n",
      "----------------------------\n",
      "Gradient Boost\n",
      "Exact Match Accuracy: 93.7500\n",
      "Per-Label Accuracies: [93.75       97.91666667]\n",
      "----------------------------\n",
      "   volume\n",
      "0       0\n",
      "1      10\n",
      "2      20\n"
     ]
    }
   ],
   "source": [
    "chloe_acc, chloe_label_acc = train_participant(chloe_df, 42, False, True, True)"
   ]
  },
  {
   "cell_type": "code",
   "execution_count": 6,
   "id": "d3e09677-c71d-4f41-b5fb-a6813fba9886",
   "metadata": {},
   "outputs": [
    {
     "name": "stdout",
     "output_type": "stream",
     "text": [
      "{'apple': 0, 'dry swallow': 1, 'jelly': 2, 'milk': 3, 'water': 4, 'yogurt': 5}\n"
     ]
    }
   ],
   "source": [
    "libing_path = r'C:\\Users\\chloe\\OneDrive\\Desktop\\swallow EMG\\data\\participants\\libing\\extracted signals'\n",
    "libing_df, libing_map = feature_extraction.make_df(libing_path, exclude)\n",
    "print(libing_map)"
   ]
  },
  {
   "cell_type": "code",
   "execution_count": 7,
   "id": "08a2e5ef-ee90-4d0a-885c-8c0bacd97268",
   "metadata": {},
   "outputs": [
    {
     "name": "stderr",
     "output_type": "stream",
     "text": [
      "C:\\Users\\chloe\\AppData\\Local\\Temp\\ipykernel_43320\\4163262930.py:5: PerformanceWarning: dropping on a non-lexsorted multi-index without a level parameter may impact performance.\n",
      "  x = df.drop(columns=['volume', 'substance'])\n"
     ]
    },
    {
     "name": "stdout",
     "output_type": "stream",
     "text": [
      "SVM\n",
      "Exact Match Accuracy: 62.5000\n",
      "Per-Label Accuracies: [75.  87.5]\n",
      "----------------------------\n",
      "KNN\n",
      "Exact Match Accuracy: 50.0000\n",
      "Per-Label Accuracies: [62.5 87.5]\n",
      "----------------------------\n",
      "Decision Tree\n",
      "Exact Match Accuracy: 37.5000\n",
      "Per-Label Accuracies: [37.5 87.5]\n",
      "----------------------------\n",
      "Naive Bayes\n",
      "Exact Match Accuracy: 75.0000\n",
      "Per-Label Accuracies: [87.5 87.5]\n",
      "----------------------------\n",
      "Logistic Regression\n",
      "Exact Match Accuracy: 62.5000\n",
      "Per-Label Accuracies: [75.  87.5]\n",
      "----------------------------\n",
      "Gradient Boost\n",
      "Exact Match Accuracy: 37.5000\n",
      "Per-Label Accuracies: [62.5 75. ]\n",
      "----------------------------\n",
      "   volume\n",
      "0       0\n",
      "1      10\n",
      "2      20\n"
     ]
    }
   ],
   "source": [
    "libing_acc, libing_label_acc = train_participant(libing_df, 42, False, True, True)"
   ]
  },
  {
   "cell_type": "code",
   "execution_count": 8,
   "id": "99cec831-ca9e-40ce-b7c8-f370d40a83a7",
   "metadata": {},
   "outputs": [
    {
     "name": "stdout",
     "output_type": "stream",
     "text": [
      "{'apple': 0, 'dry swallow': 1, 'jelly': 2, 'milk': 3, 'water': 4, 'yogurt': 5}\n"
     ]
    }
   ],
   "source": [
    "wenjian_path = r'C:\\Users\\chloe\\OneDrive\\Desktop\\swallow EMG\\data\\participants\\wenjian\\extracted signals'\n",
    "wenjian_df, wenjian_map = feature_extraction.make_df(wenjian_path, exclude)\n",
    "print(wenjian_map)"
   ]
  },
  {
   "cell_type": "code",
   "execution_count": 9,
   "id": "5ac762b7-5117-4917-88fb-e4a61345d948",
   "metadata": {},
   "outputs": [
    {
     "name": "stderr",
     "output_type": "stream",
     "text": [
      "C:\\Users\\chloe\\AppData\\Local\\Temp\\ipykernel_43320\\4163262930.py:5: PerformanceWarning: dropping on a non-lexsorted multi-index without a level parameter may impact performance.\n",
      "  x = df.drop(columns=['volume', 'substance'])\n"
     ]
    },
    {
     "name": "stdout",
     "output_type": "stream",
     "text": [
      "SVM\n",
      "Exact Match Accuracy: 37.5000\n",
      "Per-Label Accuracies: [75.  62.5]\n",
      "----------------------------\n",
      "KNN\n",
      "Exact Match Accuracy: 50.0000\n",
      "Per-Label Accuracies: [87.5 62.5]\n",
      "----------------------------\n",
      "Decision Tree\n",
      "Exact Match Accuracy: 37.5000\n",
      "Per-Label Accuracies: [50. 50.]\n",
      "----------------------------\n",
      "Naive Bayes\n",
      "Exact Match Accuracy: 50.0000\n",
      "Per-Label Accuracies: [75.  62.5]\n",
      "----------------------------\n",
      "Logistic Regression\n",
      "Exact Match Accuracy: 50.0000\n",
      "Per-Label Accuracies: [75. 75.]\n",
      "----------------------------\n",
      "Gradient Boost\n",
      "Exact Match Accuracy: 37.5000\n",
      "Per-Label Accuracies: [37.5 62.5]\n",
      "----------------------------\n",
      "   volume\n",
      "0       0\n",
      "1      10\n",
      "2      20\n"
     ]
    }
   ],
   "source": [
    "wenjian_acc, wenjian_label_acc = train_participant(wenjian_df, 42, False, True, True)"
   ]
  },
  {
   "cell_type": "code",
   "execution_count": 10,
   "id": "bc9268b6-fef8-4f08-ae61-81157f8df745",
   "metadata": {},
   "outputs": [
    {
     "data": {
      "image/png": "[encoded data removed]",
      "text/plain": [
       "<Figure size 640x480 with 1 Axes>"
      ]
     },
     "metadata": {},
     "output_type": "display_data"
    }
   ],
   "source": [
    "import matplotlib.pyplot as plt\n",
    "import numpy as np\n",
    "from src.models import single_models\n",
    "\n",
    "model_names = [name for name, _ in single_models]\n",
    "\n",
    "x = np.arange(len(single_models))  # [0, 1, 2]\n",
    "width = 0.25  # width of each bar\n",
    "\n",
    "# Plot bars side by side\n",
    "plt.bar(x - width, chloe_acc, width, label='Chloe', color='dodgerblue')\n",
    "plt.bar(x, libing_acc, width, label='Libing', color='deepskyblue')\n",
    "plt.bar(x + width, wenjian_acc, width, label='Wenjian', color='lightskyblue')\n",
    "\n",
    "# Add labels\n",
    "plt.xticks(x, model_names, rotation=-45)\n",
    "plt.ylabel('Exact Accuracy (%)')\n",
    "plt.legend(loc='upper left', bbox_to_anchor=(1.05, 1))\n",
    "plt.show()"
   ]
  },
  {
   "cell_type": "code",
   "execution_count": 11,
   "id": "2d493bc4",
   "metadata": {},
   "outputs": [
    {
     "name": "stderr",
     "output_type": "stream",
     "text": [
      "C:\\Users\\chloe\\AppData\\Local\\Temp\\ipykernel_43320\\1458217129.py:1: PerformanceWarning: dropping on a non-lexsorted multi-index without a level parameter may impact performance.\n",
      "  chloe_df_limited = chloe_df.groupby(['substance', 'volume']).apply(lambda x: x.sample(min(len(x), 5))).reset_index(drop=True)\n",
      "C:\\Users\\chloe\\AppData\\Local\\Temp\\ipykernel_43320\\1458217129.py:1: DeprecationWarning: DataFrameGroupBy.apply operated on the grouping columns. This behavior is deprecated, and in a future version of pandas the grouping columns will be excluded from the operation. Either pass `include_groups=False` to exclude the groupings or explicitly select the grouping columns after groupby to silence this warning.\n",
      "  chloe_df_limited = chloe_df.groupby(['substance', 'volume']).apply(lambda x: x.sample(min(len(x), 5))).reset_index(drop=True)\n"
     ]
    }
   ],
   "source": [
    "chloe_df_limited = chloe_df.groupby(['substance', 'volume']).apply(lambda x: x.sample(min(len(x), 5))).reset_index(drop=True)"
   ]
  },
  {
   "cell_type": "code",
   "execution_count": 12,
   "id": "0788b5f6",
   "metadata": {},
   "outputs": [
    {
     "name": "stderr",
     "output_type": "stream",
     "text": [
      "C:\\Users\\chloe\\AppData\\Local\\Temp\\ipykernel_43320\\4163262930.py:5: PerformanceWarning: dropping on a non-lexsorted multi-index without a level parameter may impact performance.\n",
      "  x = df.drop(columns=['volume', 'substance'])\n"
     ]
    },
    {
     "name": "stdout",
     "output_type": "stream",
     "text": [
      "SVM\n",
      "Exact Match Accuracy: 62.5000\n",
      "Per-Label Accuracies: [75.  87.5]\n",
      "----------------------------\n",
      "KNN\n",
      "Exact Match Accuracy: 62.5000\n",
      "Per-Label Accuracies: [75. 75.]\n",
      "----------------------------\n",
      "Decision Tree\n",
      "Exact Match Accuracy: 50.0000\n",
      "Per-Label Accuracies: [ 50. 100.]\n",
      "----------------------------\n",
      "Naive Bayes\n",
      "Exact Match Accuracy: 50.0000\n",
      "Per-Label Accuracies: [62.5 87.5]\n",
      "----------------------------\n",
      "Logistic Regression\n",
      "Exact Match Accuracy: 75.0000\n",
      "Per-Label Accuracies: [87.5 87.5]\n",
      "----------------------------\n",
      "Gradient Boost\n",
      "Exact Match Accuracy: 75.0000\n",
      "Per-Label Accuracies: [ 75. 100.]\n",
      "----------------------------\n",
      "   volume\n",
      "0       0\n",
      "1      10\n",
      "2      20\n"
     ]
    }
   ],
   "source": [
    "chloe_acc_lim, chloe_label_acc_lim = train_participant(chloe_df_limited, 42, False, True, True)"
   ]
  },
  {
   "cell_type": "code",
   "execution_count": 13,
   "id": "78d61626",
   "metadata": {},
   "outputs": [
    {
     "data": {
      "image/png": "[encoded data removed]",
      "text/plain": [
       "<Figure size 640x480 with 1 Axes>"
      ]
     },
     "metadata": {},
     "output_type": "display_data"
    }
   ],
   "source": [
    "# Plot bars side by side\n",
    "plt.bar(x - width, chloe_acc_lim, width, label='Chloe (limited)', color='dodgerblue')\n",
    "plt.bar(x, libing_acc, width, label='Libing', color='deepskyblue')\n",
    "plt.bar(x + width, wenjian_acc, width, label='Wenjian', color='lightskyblue')\n",
    "\n",
    "# Add labels\n",
    "plt.xticks(x, model_names, rotation=-45)\n",
    "plt.ylabel('Exact Accuracy (%)')\n",
    "plt.legend(loc='upper left', bbox_to_anchor=(1.05, 1))\n",
    "plt.show()"
   ]
  },
  {
   "cell_type": "code",
   "execution_count": 14,
   "id": "8945107a",
   "metadata": {},
   "outputs": [
    {
     "data": {
      "text/html": [
       "<div>\n",
       "<style scoped>\n",
       "    .dataframe tbody tr th:only-of-type {\n",
       "        vertical-align: middle;\n",
       "    }\n",
       "\n",
       "    .dataframe tbody tr th {\n",
       "        vertical-align: top;\n",
       "    }\n",
       "\n",
       "    .dataframe thead tr th {\n",
       "        text-align: left;\n",
       "    }\n",
       "</style>\n",
       "<table border=\"1\" class=\"dataframe\">\n",
       "  <thead>\n",
       "    <tr>\n",
       "      <th></th>\n",
       "      <th>substance</th>\n",
       "      <th>volume</th>\n",
       "      <th colspan=\"8\" halign=\"left\">1</th>\n",
       "      <th>...</th>\n",
       "      <th>21</th>\n",
       "      <th colspan=\"9\" halign=\"left\">22</th>\n",
       "    </tr>\n",
       "    <tr>\n",
       "      <th></th>\n",
       "      <th></th>\n",
       "      <th></th>\n",
       "      <th>min</th>\n",
       "      <th>max</th>\n",
       "      <th>mav</th>\n",
       "      <th>rms</th>\n",
       "      <th>wavelength</th>\n",
       "      <th>var</th>\n",
       "      <th>abs_diffs_signal</th>\n",
       "      <th>shannon_entropy</th>\n",
       "      <th>...</th>\n",
       "      <th>iemg</th>\n",
       "      <th>min</th>\n",
       "      <th>max</th>\n",
       "      <th>mav</th>\n",
       "      <th>rms</th>\n",
       "      <th>wavelength</th>\n",
       "      <th>var</th>\n",
       "      <th>abs_diffs_signal</th>\n",
       "      <th>shannon_entropy</th>\n",
       "      <th>iemg</th>\n",
       "    </tr>\n",
       "  </thead>\n",
       "  <tbody>\n",
       "    <tr>\n",
       "      <th>0</th>\n",
       "      <td>0</td>\n",
       "      <td>10</td>\n",
       "      <td>-117.6800</td>\n",
       "      <td>88.7624</td>\n",
       "      <td>12.894428</td>\n",
       "      <td>20.201310</td>\n",
       "      <td>10965.855720</td>\n",
       "      <td>408.091749</td>\n",
       "      <td>10965.855720</td>\n",
       "      <td>3.307504</td>\n",
       "      <td>...</td>\n",
       "      <td>3716160</td>\n",
       "      <td>-24920</td>\n",
       "      <td>12320</td>\n",
       "      <td>4283.02</td>\n",
       "      <td>5580.809870</td>\n",
       "      <td>475300</td>\n",
       "      <td>3.111856e+07</td>\n",
       "      <td>475300</td>\n",
       "      <td>4.058858</td>\n",
       "      <td>4283020</td>\n",
       "    </tr>\n",
       "    <tr>\n",
       "      <th>1</th>\n",
       "      <td>0</td>\n",
       "      <td>10</td>\n",
       "      <td>-104.5180</td>\n",
       "      <td>94.9572</td>\n",
       "      <td>12.165677</td>\n",
       "      <td>18.840638</td>\n",
       "      <td>10336.958588</td>\n",
       "      <td>354.968943</td>\n",
       "      <td>10336.958588</td>\n",
       "      <td>3.285072</td>\n",
       "      <td>...</td>\n",
       "      <td>4346720</td>\n",
       "      <td>-18060</td>\n",
       "      <td>13440</td>\n",
       "      <td>2880.92</td>\n",
       "      <td>3840.177288</td>\n",
       "      <td>510580</td>\n",
       "      <td>1.414844e+07</td>\n",
       "      <td>510580</td>\n",
       "      <td>3.796493</td>\n",
       "      <td>2880920</td>\n",
       "    </tr>\n",
       "    <tr>\n",
       "      <th>2</th>\n",
       "      <td>0</td>\n",
       "      <td>10</td>\n",
       "      <td>-95.3714</td>\n",
       "      <td>72.2497</td>\n",
       "      <td>10.843219</td>\n",
       "      <td>17.160599</td>\n",
       "      <td>9140.599767</td>\n",
       "      <td>294.486000</td>\n",
       "      <td>9140.599767</td>\n",
       "      <td>3.360908</td>\n",
       "      <td>...</td>\n",
       "      <td>4323200</td>\n",
       "      <td>-15400</td>\n",
       "      <td>10640</td>\n",
       "      <td>3457.58</td>\n",
       "      <td>4505.901686</td>\n",
       "      <td>480340</td>\n",
       "      <td>1.940084e+07</td>\n",
       "      <td>480340</td>\n",
       "      <td>4.305045</td>\n",
       "      <td>3457580</td>\n",
       "    </tr>\n",
       "    <tr>\n",
       "      <th>3</th>\n",
       "      <td>0</td>\n",
       "      <td>10</td>\n",
       "      <td>-115.9680</td>\n",
       "      <td>85.3536</td>\n",
       "      <td>10.886213</td>\n",
       "      <td>16.903758</td>\n",
       "      <td>9015.136619</td>\n",
       "      <td>285.736601</td>\n",
       "      <td>9015.136619</td>\n",
       "      <td>3.110966</td>\n",
       "      <td>...</td>\n",
       "      <td>3448340</td>\n",
       "      <td>-14140</td>\n",
       "      <td>11340</td>\n",
       "      <td>3889.62</td>\n",
       "      <td>4943.235256</td>\n",
       "      <td>338100</td>\n",
       "      <td>2.365493e+07</td>\n",
       "      <td>338100</td>\n",
       "      <td>4.410005</td>\n",
       "      <td>3889620</td>\n",
       "    </tr>\n",
       "    <tr>\n",
       "      <th>4</th>\n",
       "      <td>0</td>\n",
       "      <td>10</td>\n",
       "      <td>-91.0600</td>\n",
       "      <td>102.7130</td>\n",
       "      <td>10.606130</td>\n",
       "      <td>16.728797</td>\n",
       "      <td>9137.620517</td>\n",
       "      <td>279.852604</td>\n",
       "      <td>9137.620517</td>\n",
       "      <td>3.121752</td>\n",
       "      <td>...</td>\n",
       "      <td>4382980</td>\n",
       "      <td>-10500</td>\n",
       "      <td>14700</td>\n",
       "      <td>2421.30</td>\n",
       "      <td>3392.252290</td>\n",
       "      <td>380800</td>\n",
       "      <td>1.149061e+07</td>\n",
       "      <td>380800</td>\n",
       "      <td>3.885861</td>\n",
       "      <td>2421300</td>\n",
       "    </tr>\n",
       "    <tr>\n",
       "      <th>...</th>\n",
       "      <td>...</td>\n",
       "      <td>...</td>\n",
       "      <td>...</td>\n",
       "      <td>...</td>\n",
       "      <td>...</td>\n",
       "      <td>...</td>\n",
       "      <td>...</td>\n",
       "      <td>...</td>\n",
       "      <td>...</td>\n",
       "      <td>...</td>\n",
       "      <td>...</td>\n",
       "      <td>...</td>\n",
       "      <td>...</td>\n",
       "      <td>...</td>\n",
       "      <td>...</td>\n",
       "      <td>...</td>\n",
       "      <td>...</td>\n",
       "      <td>...</td>\n",
       "      <td>...</td>\n",
       "      <td>...</td>\n",
       "      <td>...</td>\n",
       "    </tr>\n",
       "    <tr>\n",
       "      <th>35</th>\n",
       "      <td>5</td>\n",
       "      <td>10</td>\n",
       "      <td>-63.9541</td>\n",
       "      <td>72.2357</td>\n",
       "      <td>13.076436</td>\n",
       "      <td>17.415477</td>\n",
       "      <td>15498.935331</td>\n",
       "      <td>303.298301</td>\n",
       "      <td>15498.935331</td>\n",
       "      <td>3.915314</td>\n",
       "      <td>...</td>\n",
       "      <td>9545620</td>\n",
       "      <td>-13020</td>\n",
       "      <td>31500</td>\n",
       "      <td>4806.48</td>\n",
       "      <td>7420.795052</td>\n",
       "      <td>283080</td>\n",
       "      <td>5.506818e+07</td>\n",
       "      <td>283080</td>\n",
       "      <td>3.858004</td>\n",
       "      <td>4806480</td>\n",
       "    </tr>\n",
       "    <tr>\n",
       "      <th>36</th>\n",
       "      <td>5</td>\n",
       "      <td>10</td>\n",
       "      <td>-86.1039</td>\n",
       "      <td>67.9453</td>\n",
       "      <td>12.480544</td>\n",
       "      <td>16.866867</td>\n",
       "      <td>15387.195046</td>\n",
       "      <td>284.490971</td>\n",
       "      <td>15387.195046</td>\n",
       "      <td>3.664392</td>\n",
       "      <td>...</td>\n",
       "      <td>10166380</td>\n",
       "      <td>-20020</td>\n",
       "      <td>33180</td>\n",
       "      <td>5386.22</td>\n",
       "      <td>8316.637518</td>\n",
       "      <td>358820</td>\n",
       "      <td>6.905886e+07</td>\n",
       "      <td>358820</td>\n",
       "      <td>3.779000</td>\n",
       "      <td>5386220</td>\n",
       "    </tr>\n",
       "    <tr>\n",
       "      <th>37</th>\n",
       "      <td>5</td>\n",
       "      <td>10</td>\n",
       "      <td>-66.9294</td>\n",
       "      <td>66.4570</td>\n",
       "      <td>13.246470</td>\n",
       "      <td>17.656275</td>\n",
       "      <td>15506.199016</td>\n",
       "      <td>311.742098</td>\n",
       "      <td>15506.199016</td>\n",
       "      <td>3.977486</td>\n",
       "      <td>...</td>\n",
       "      <td>10830820</td>\n",
       "      <td>-19180</td>\n",
       "      <td>23940</td>\n",
       "      <td>5178.88</td>\n",
       "      <td>7074.234771</td>\n",
       "      <td>336140</td>\n",
       "      <td>4.974790e+07</td>\n",
       "      <td>336140</td>\n",
       "      <td>4.191279</td>\n",
       "      <td>5178880</td>\n",
       "    </tr>\n",
       "    <tr>\n",
       "      <th>38</th>\n",
       "      <td>5</td>\n",
       "      <td>10</td>\n",
       "      <td>-81.6146</td>\n",
       "      <td>83.1651</td>\n",
       "      <td>13.054595</td>\n",
       "      <td>17.908864</td>\n",
       "      <td>14503.207393</td>\n",
       "      <td>320.724537</td>\n",
       "      <td>14503.207393</td>\n",
       "      <td>3.660768</td>\n",
       "      <td>...</td>\n",
       "      <td>10317020</td>\n",
       "      <td>-19740</td>\n",
       "      <td>26040</td>\n",
       "      <td>4370.38</td>\n",
       "      <td>6999.656992</td>\n",
       "      <td>301420</td>\n",
       "      <td>4.828889e+07</td>\n",
       "      <td>301420</td>\n",
       "      <td>3.694230</td>\n",
       "      <td>4370380</td>\n",
       "    </tr>\n",
       "    <tr>\n",
       "      <th>39</th>\n",
       "      <td>5</td>\n",
       "      <td>10</td>\n",
       "      <td>-97.7972</td>\n",
       "      <td>81.3140</td>\n",
       "      <td>13.341329</td>\n",
       "      <td>18.231295</td>\n",
       "      <td>15144.190226</td>\n",
       "      <td>332.379973</td>\n",
       "      <td>15144.190226</td>\n",
       "      <td>3.560670</td>\n",
       "      <td>...</td>\n",
       "      <td>10367140</td>\n",
       "      <td>-21560</td>\n",
       "      <td>21000</td>\n",
       "      <td>4276.72</td>\n",
       "      <td>6234.512972</td>\n",
       "      <td>347060</td>\n",
       "      <td>3.885161e+07</td>\n",
       "      <td>347060</td>\n",
       "      <td>3.914766</td>\n",
       "      <td>4276720</td>\n",
       "    </tr>\n",
       "  </tbody>\n",
       "</table>\n",
       "<p>120 rows × 200 columns</p>\n",
       "</div>"
      ],
      "text/plain": [
       "   substance volume         1                                                \\\n",
       "                          min       max        mav        rms    wavelength   \n",
       "0          0     10 -117.6800   88.7624  12.894428  20.201310  10965.855720   \n",
       "1          0     10 -104.5180   94.9572  12.165677  18.840638  10336.958588   \n",
       "2          0     10  -95.3714   72.2497  10.843219  17.160599   9140.599767   \n",
       "3          0     10 -115.9680   85.3536  10.886213  16.903758   9015.136619   \n",
       "4          0     10  -91.0600  102.7130  10.606130  16.728797   9137.620517   \n",
       "..       ...    ...       ...       ...        ...        ...           ...   \n",
       "35         5     10  -63.9541   72.2357  13.076436  17.415477  15498.935331   \n",
       "36         5     10  -86.1039   67.9453  12.480544  16.866867  15387.195046   \n",
       "37         5     10  -66.9294   66.4570  13.246470  17.656275  15506.199016   \n",
       "38         5     10  -81.6146   83.1651  13.054595  17.908864  14503.207393   \n",
       "39         5     10  -97.7972   81.3140  13.341329  18.231295  15144.190226   \n",
       "\n",
       "                                                 ...        21     22         \\\n",
       "           var abs_diffs_signal shannon_entropy  ...      iemg    min    max   \n",
       "0   408.091749     10965.855720        3.307504  ...   3716160 -24920  12320   \n",
       "1   354.968943     10336.958588        3.285072  ...   4346720 -18060  13440   \n",
       "2   294.486000      9140.599767        3.360908  ...   4323200 -15400  10640   \n",
       "3   285.736601      9015.136619        3.110966  ...   3448340 -14140  11340   \n",
       "4   279.852604      9137.620517        3.121752  ...   4382980 -10500  14700   \n",
       "..         ...              ...             ...  ...       ...    ...    ...   \n",
       "35  303.298301     15498.935331        3.915314  ...   9545620 -13020  31500   \n",
       "36  284.490971     15387.195046        3.664392  ...  10166380 -20020  33180   \n",
       "37  311.742098     15506.199016        3.977486  ...  10830820 -19180  23940   \n",
       "38  320.724537     14503.207393        3.660768  ...  10317020 -19740  26040   \n",
       "39  332.379973     15144.190226        3.560670  ...  10367140 -21560  21000   \n",
       "\n",
       "                                                                    \\\n",
       "        mav          rms wavelength           var abs_diffs_signal   \n",
       "0   4283.02  5580.809870     475300  3.111856e+07           475300   \n",
       "1   2880.92  3840.177288     510580  1.414844e+07           510580   \n",
       "2   3457.58  4505.901686     480340  1.940084e+07           480340   \n",
       "3   3889.62  4943.235256     338100  2.365493e+07           338100   \n",
       "4   2421.30  3392.252290     380800  1.149061e+07           380800   \n",
       "..      ...          ...        ...           ...              ...   \n",
       "35  4806.48  7420.795052     283080  5.506818e+07           283080   \n",
       "36  5386.22  8316.637518     358820  6.905886e+07           358820   \n",
       "37  5178.88  7074.234771     336140  4.974790e+07           336140   \n",
       "38  4370.38  6999.656992     301420  4.828889e+07           301420   \n",
       "39  4276.72  6234.512972     347060  3.885161e+07           347060   \n",
       "\n",
       "                             \n",
       "   shannon_entropy     iemg  \n",
       "0         4.058858  4283020  \n",
       "1         3.796493  2880920  \n",
       "2         4.305045  3457580  \n",
       "3         4.410005  3889620  \n",
       "4         3.885861  2421300  \n",
       "..             ...      ...  \n",
       "35        3.858004  4806480  \n",
       "36        3.779000  5386220  \n",
       "37        4.191279  5178880  \n",
       "38        3.694230  4370380  \n",
       "39        3.914766  4276720  \n",
       "\n",
       "[120 rows x 200 columns]"
      ]
     },
     "execution_count": 14,
     "metadata": {},
     "output_type": "execute_result"
    }
   ],
   "source": [
    "all_participants = pd.concat([chloe_df_limited, libing_df, wenjian_df], axis=0)\n",
    "all_participants"
   ]
  },
  {
   "cell_type": "code",
   "execution_count": 15,
   "id": "de948158",
   "metadata": {},
   "outputs": [
    {
     "name": "stderr",
     "output_type": "stream",
     "text": [
      "C:\\Users\\chloe\\AppData\\Local\\Temp\\ipykernel_43320\\114170057.py:1: PerformanceWarning: dropping on a non-lexsorted multi-index without a level parameter may impact performance.\n",
      "  x = all_participants.drop(columns=['volume', 'substance'])\n"
     ]
    },
    {
     "name": "stdout",
     "output_type": "stream",
     "text": [
      "SVM\n",
      "Exact Match Accuracy: 45.8333\n",
      "Per-Label Accuracies: [79.16666667 62.5       ]\n",
      "----------------------------\n",
      "KNN\n",
      "Exact Match Accuracy: 54.1667\n",
      "Per-Label Accuracies: [70.83333333 75.        ]\n",
      "----------------------------\n",
      "Decision Tree\n",
      "Exact Match Accuracy: 45.8333\n",
      "Per-Label Accuracies: [58.33333333 75.        ]\n",
      "----------------------------\n",
      "Naive Bayes\n",
      "Exact Match Accuracy: 25.0000\n",
      "Per-Label Accuracies: [50.         41.66666667]\n",
      "----------------------------\n",
      "Logistic Regression\n",
      "Exact Match Accuracy: 54.1667\n",
      "Per-Label Accuracies: [83.33333333 70.83333333]\n",
      "----------------------------\n",
      "Gradient Boost\n",
      "Exact Match Accuracy: 58.3333\n",
      "Per-Label Accuracies: [66.66666667 79.16666667]\n",
      "----------------------------\n"
     ]
    }
   ],
   "source": [
    "x = all_participants.drop(columns=['volume', 'substance'])\n",
    "y = all_participants[['substance', 'volume']]\n",
    "    \n",
    "acc, label_acc = models.train_multioutput_models(x, y, 42, False, True)"
   ]
  },
  {
   "cell_type": "code",
   "execution_count": 16,
   "id": "c0b90589",
   "metadata": {},
   "outputs": [
    {
     "data": {
      "image/png": "[encoded data removed]",
      "text/plain": [
       "<Figure size 640x480 with 1 Axes>"
      ]
     },
     "metadata": {},
     "output_type": "display_data"
    }
   ],
   "source": [
    "from src import results\n",
    "\n",
    "results.plot_accuracy(acc)"
   ]
  },
  {
   "cell_type": "code",
   "execution_count": 17,
   "id": "92e44926",
   "metadata": {},
   "outputs": [],
   "source": [
    "chloe_df_limited.to_csv(r'C:\\Users\\chloe\\OneDrive\\Desktop\\swallow EMG\\notebooks\\participant features\\chloe_limited.csv', index=False)\n",
    "libing_df.to_csv(r'C:\\Users\\chloe\\OneDrive\\Desktop\\swallow EMG\\notebooks\\participant features\\libing.csv', index=False)\n",
    "wenjian_df.to_csv(r'C:\\Users\\chloe\\OneDrive\\Desktop\\swallow EMG\\notebooks\\participant features\\wenjian.csv', index=False)"
   ]
  }
 ],
 "metadata": {
  "kernelspec": {
   "display_name": "Python 3",
   "language": "python",
   "name": "python3"
  },
  "language_info": {
   "codemirror_mode": {
    "name": "ipython",
    "version": 3
   },
   "file_extension": ".py",
   "mimetype": "text/x-python",
   "name": "python",
   "nbconvert_exporter": "python",
   "pygments_lexer": "ipython3",
   "version": "3.11.9"
  }
 },
 "nbformat": 4,
 "nbformat_minor": 5
}
